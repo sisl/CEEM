{
 "cells": [
  {
   "cell_type": "markdown",
   "metadata": {},
   "source": [
    "# CE-EM For Estimating SIRD Models\n",
    "In this example notebook, we apply CE-EM to estimate the parameters of an SIRD compartmental model of the spread of COVID-19 in Germany.\n",
    "\n",
    "The workbook is organized as follows:\n",
    "- Imports\n",
    "- Loading the data\n",
    "- Defining a state-space model of the SIRD system\n",
    "- Specifying the criteria for smoothing and learning\n",
    "- Running CE-EM\n",
    "- Plotting our results"
   ]
  },
  {
   "cell_type": "code",
   "execution_count": 1,
   "metadata": {},
   "outputs": [],
   "source": [
    "# change director to the CEEM directory\n",
    "import os\n",
    "os.chdir('..')"
   ]
  },
  {
   "cell_type": "markdown",
   "metadata": {},
   "source": [
    "## Imports\n",
    "To define the model of the system, we import from `ceem.dynamics` the `C2DSystem` class to define a continuous-time system. We also import `DynJacMixin` to allow PyTorch to automatically compute Jacobians for the system. We import `AnalyticObsJacMixin` to allow us to analytically compute the observation Jacobian, which can improve efficiency.\n",
    "We import criteria for smoothing and learning from `ceem.opt_criteria`, and the CEEM class from `ceem.ceem`.\n",
    "We also set the default PyTorch data type to `torch.float64`."
   ]
  },
  {
   "cell_type": "code",
   "execution_count": 2,
   "metadata": {},
   "outputs": [],
   "source": [
    "import pandas as pd\n",
    "import torch\n",
    "from torch import nn\n",
    "import matplotlib.pyplot as plt\n",
    "from ceem.dynamics import C2DSystem, AnalyticObsJacMixin, DynJacMixin\n",
    "from ceem.opt_criteria import *\n",
    "from ceem.ceem import CEEM\n",
    "\n",
    "torch.set_default_dtype(torch.float64)\n",
    "dtype=torch.get_default_dtype()"
   ]
  },
  {
   "cell_type": "markdown",
   "metadata": {},
   "source": [
    "## Loading the data\n",
    "Here, we load the COVID-19 data for Germany from 3/9/2020 to 6/11/2020. The data consists of the cumulative number of confirmed cases and deaths. We then prepare a torch tensor for the time-inputs to the system `t` and the observations `y`, which are the logarithms of the confirmed cases and deaths."
   ]
  },
  {
   "cell_type": "code",
   "execution_count": 3,
   "metadata": {},
   "outputs": [],
   "source": [
    "df = pd.read_csv('examples/germany.csv')\n",
    "B = 1\n",
    "T = len(df)\n",
    "t = torch.arange(T, dtype=dtype).view(B,T).detach()\n",
    "y = torch.tensor(df[['Confirmed', 'Deaths']].values, dtype=dtype).log().view(B,T,2).detach()"
   ]
  },
  {
   "cell_type": "markdown",
   "metadata": {},
   "source": [
    "## Defining a state-space model of the SIRD system\n",
    "To define a state-space model of a continuous-time system, we inherit the `C2DSystem` (which automatically applies a specified integration scheme to convert the continous-time dynamics to discrete-time). We need to implement two methods, `step_derivs` which returns the expect state-derivatives, and `observe` which returns the expected observation.\n",
    "We're modeling the number of infections in a population, which is a strictly positive quantity that spans many orders of magnitude. As a result, we let the states of the system be the logarithm of the number of susceptible (S), infected (I), recovered (R), and deceased (D) individuals, as well as of the number of confirmed cases (C). We directly observe the logarithm of C and D, but none of the other quantities. \n",
    "We also define the `jac_obs_x`, which analytically computes returns the observation Jacobian with respect to `x`. "
   ]
  },
  {
   "cell_type": "code",
   "execution_count": 4,
   "metadata": {},
   "outputs": [],
   "source": [
    "class CompartmentalSystem(C2DSystem, nn.Module, AnalyticObsJacMixin, DynJacMixin):\n",
    "    \"\"\"\n",
    "    System predicting log of confirmed cases and deaths.\n",
    "    \"\"\"\n",
    "    \n",
    "    def __init__(self, beta, gamma, mu):\n",
    "        \n",
    "        C2DSystem.__init__(self, dt=1.0, # integration time-step\n",
    "                                 method='midpoint' # integration scheme\n",
    "                          )\n",
    "        nn.Module.__init__(self)\n",
    "\n",
    "        self.logbeta = nn.Parameter(torch.tensor(beta).log())\n",
    "        self.loggamma = nn.Parameter(torch.tensor(gamma).log())\n",
    "        self.logmu = nn.Parameter(torch.tensor(mu).log())\n",
    "        \n",
    "        self._xdim = 5 # log [S, I, R, D, C]\n",
    "        self._ydim = 2\n",
    "        \n",
    "    def step_derivs(self, t, x, u=None):\n",
    "        \n",
    "        beta, gamma, mu = (self.logbeta.exp(), self.loggamma.exp(), self.logmu.exp())\n",
    "        x = x.exp()\n",
    "        \n",
    "        S = x[...,0:1]\n",
    "        I = x[...,1:2]\n",
    "        R = x[...,2:3]\n",
    "        D = x[...,3:4]\n",
    "        \n",
    "        N = S+I+R+D\n",
    "        \n",
    "        dSdt = -beta*S*I/N\n",
    "        dIdt = -dSdt - (gamma+mu)*I\n",
    "        dRdt = gamma * I\n",
    "        dDdt = mu * I\n",
    "        dCdt = -dSdt\n",
    "        \n",
    "        dxdt_ = torch.cat([dSdt, dIdt, dRdt, dDdt, dCdt], dim=-1)\n",
    "        dxdt = dxdt_ / x\n",
    "        \n",
    "        return dxdt\n",
    "    \n",
    "    def observe(self, t, x, u=None):\n",
    "        \n",
    "        return x[...,[4,3]]\n",
    "    \n",
    "    def jac_obs_x(self, t, x, u=None):\n",
    "\n",
    "        B, T, n = x.shape\n",
    "\n",
    "        return torch.eye(5)[[4,3],:].expand(B, T, 2, 5)\n",
    "    \n",
    "system = CompartmentalSystem(beta=0.1, gamma=0.04, mu=0.004)"
   ]
  },
  {
   "cell_type": "markdown",
   "metadata": {},
   "source": [
    "## Specifying the Criteria for Smoothing and Learning\n",
    "The next step is to specify the negative-log-likelihood for a given state-trajectory and choice of parameters. To do so, we must specify the process and observation noise covariances. We then pass in the inverse observation covariance along with `t` and `y` into `GaussainObservationCriterion` , which estimates the NLL of the observations given the states. We also pass the inverse dynamics covariance and `t` into `GaussianDynamicsCriterion`, which estimates the NLL of the states themselves. We then combine the NLL objectives using `GroupSOSCriterion`. Note that we only train  one trajectory, but if we were to have multiple trajectories, we would setup their criteria separately. We specify the solver keyword arguments for non-linear least squares in `smooth_solver_kwargs`.\n",
    "\n",
    "The next step is to setup the criteria for learning. Since the `observe` function doesn't depend on the parameters, we only need to optimize the parametrers against the dynamics criterion. We can specify different criteria corresponding to different parameters, and even different optimizers for them. "
   ]
  },
  {
   "cell_type": "code",
   "execution_count": 5,
   "metadata": {},
   "outputs": [],
   "source": [
    "# specify criteria for smoothing and learning\n",
    "wstd = 0.33\n",
    "ystd = 1.0\n",
    "\n",
    "Sig_v_inv = torch.ones(2) / (ystd ** 2)\n",
    "Sig_w_inv = torch.ones(5) / (wstd ** 2)\n",
    "\n",
    "smoothing_criteria = []\n",
    "for b in range(B):\n",
    "    # note: in this example B=1, but this is what we would do if it weren't\n",
    "    obscrit = GaussianObservationCriterion(system, Sig_v_inv, t[b:b+1], y[b:b+1]) # pass in the inverse covariance\n",
    "    dyncrit = GaussianDynamicsCriterion(system, Sig_w_inv, t[b:b+1]) \n",
    "    smoothing_criteria.append(GroupSOSCriterion([obscrit, dyncrit]))\n",
    "\n",
    "# specify solver kwargs\n",
    "smooth_solver_kwargs = {'verbose': 0, # to supress NLS printouts\n",
    "                        'tr_rho': 0.1, # trust region for smoothing\n",
    "                        'ftol':1e-5, # solve smoothing to coarse tolerance\n",
    "                        'gtol':1e-5,\n",
    "                        'xtol':1e-5\n",
    "                       }\n",
    "\n",
    "# specify learning criteria\n",
    "# note: learning criteria do not need to be specified separately for each b in B\n",
    "dyncrit = GaussianDynamicsCriterion(system, Sig_w_inv, t) \n",
    "learning_criteria = [dyncrit]# since the observation objective doesnt depend on parameters\n",
    "learning_params = [list(system.parameters())] # the parameters we want optimized\n",
    "learning_opts = ['scipy_minimize'] # the optimzer\n",
    "learner_opt_kwargs = {'method': 'Nelder-Mead', # optimizer for learning\n",
    "                      'tr_rho': 0.1 # trust region for learning\n",
    "                     }"
   ]
  },
  {
   "cell_type": "markdown",
   "metadata": {},
   "source": [
    "## Running CE-EM\n",
    "To run CE-EM, we need to specify an initial guess. We choose sensible values to intialize S,I,R,D, and C. We then instantiate CE-EM with the smoothing criteria, learning criteria, parameters for learning, optimizers, and callbacks (not used in this example). \n",
    "We then train the system."
   ]
  },
  {
   "cell_type": "code",
   "execution_count": 6,
   "metadata": {},
   "outputs": [
    {
     "name": "stdout",
     "output_type": "stream",
     "text": [
      "\u001b[32m[0622 13:00:33 @ceem.py:122]\u001b[0m Executing smoothing step\n"
     ]
    },
    {
     "name": "stderr",
     "output_type": "stream",
     "text": [
      "100%|██████████| 1/1 [00:00<00:00,  1.88it/s]"
     ]
    },
    {
     "name": "stdout",
     "output_type": "stream",
     "text": [
      "\u001b[32m[0622 13:00:34 @ceem.py:125]\u001b[0m Executing learning step\n",
      "-------------------------------------\n",
      "| learn/end_feval       | 1.82555   |\n",
      "| learn/end_gradnorm    | 2.30012   |\n",
      "| learn/net_update_norm | 0.184262  |\n",
      "| learn/start_feval     | 2.00524   |\n",
      "| learn/start_gradnorm  | 2.2997    |\n",
      "| learn/time            | 0.0515395 |\n",
      "| smooth/fun            | 3.70903   |\n",
      "| smooth/success        | True      |\n",
      "| smooth/time           | 0.531427  |\n",
      "-------------------------------------\n",
      "\u001b[32m[0622 13:00:34 @ceem.py:122]\u001b[0m Executing smoothing step\n"
     ]
    },
    {
     "name": "stderr",
     "output_type": "stream",
     "text": [
      "\n",
      "/Users/kunalmenda/anaconda3/lib/python3.6/site-packages/scipy/optimize/_minimize.py:500: RuntimeWarning: Method Nelder-Mead does not use gradient information (jac).\n",
      "  RuntimeWarning)\n",
      "100%|██████████| 1/1 [00:02<00:00,  2.80s/it]"
     ]
    },
    {
     "name": "stdout",
     "output_type": "stream",
     "text": [
      "\u001b[32m[0622 13:00:36 @ceem.py:125]\u001b[0m Executing learning step\n",
      "-------------------------------------\n",
      "| learn/end_feval       | 1.24391   |\n",
      "| learn/end_gradnorm    | 2.32789   |\n",
      "| learn/net_update_norm | 0.164081  |\n",
      "| learn/start_feval     | 1.37373   |\n",
      "| learn/start_gradnorm  | 2.32714   |\n",
      "| learn/time            | 0.0507118 |\n",
      "| smooth/fun            | 2.4615    |\n",
      "| smooth/success        | True      |\n",
      "| smooth/time           | 2.79536   |\n",
      "-------------------------------------\n",
      "\u001b[32m[0622 13:00:37 @ceem.py:122]\u001b[0m Executing smoothing step\n"
     ]
    },
    {
     "name": "stderr",
     "output_type": "stream",
     "text": [
      "\n",
      "100%|██████████| 1/1 [00:00<00:00,  1.43it/s]"
     ]
    },
    {
     "name": "stdout",
     "output_type": "stream",
     "text": [
      "\u001b[32m[0622 13:00:37 @ceem.py:125]\u001b[0m Executing learning step\n",
      "-------------------------------------\n",
      "| learn/end_feval       | 1.1008    |\n",
      "| learn/end_gradnorm    | 3.11335   |\n",
      "| learn/net_update_norm | 0.122768  |\n",
      "| learn/start_feval     | 1.18192   |\n",
      "| learn/start_gradnorm  | 3.11399   |\n",
      "| learn/time            | 0.0473775 |\n",
      "| smooth/fun            | 2.2339    |\n",
      "| smooth/success        | True      |\n",
      "| smooth/time           | 0.698359  |\n",
      "-------------------------------------\n",
      "\u001b[32m[0622 13:00:37 @ceem.py:122]\u001b[0m Executing smoothing step\n"
     ]
    },
    {
     "name": "stderr",
     "output_type": "stream",
     "text": [
      "\n",
      "100%|██████████| 1/1 [00:00<00:00,  1.10it/s]"
     ]
    },
    {
     "name": "stdout",
     "output_type": "stream",
     "text": [
      "\u001b[32m[0622 13:00:38 @ceem.py:125]\u001b[0m Executing learning step\n",
      "-------------------------------------\n",
      "| learn/end_feval       | 1.00792   |\n",
      "| learn/end_gradnorm    | 4.02085   |\n",
      "| learn/net_update_norm | 0.0906144 |\n",
      "| learn/start_feval     | 1.05649   |\n",
      "| learn/start_gradnorm  | 4.01989   |\n",
      "| learn/time            | 0.0467019 |\n",
      "| smooth/fun            | 2.09144   |\n",
      "| smooth/success        | True      |\n",
      "| smooth/time           | 0.908534  |\n",
      "-------------------------------------\n",
      "\u001b[32m[0622 13:00:38 @ceem.py:122]\u001b[0m Executing smoothing step\n"
     ]
    },
    {
     "name": "stderr",
     "output_type": "stream",
     "text": [
      "\n",
      "100%|██████████| 1/1 [00:01<00:00,  1.49s/it]"
     ]
    },
    {
     "name": "stdout",
     "output_type": "stream",
     "text": [
      "\u001b[32m[0622 13:00:40 @ceem.py:125]\u001b[0m Executing learning step\n",
      "------------------------------------\n",
      "| learn/end_feval       | 0.952799 |\n",
      "| learn/end_gradnorm    | 4.87236  |\n",
      "| learn/net_update_norm | 0.07031  |\n",
      "| learn/start_feval     | 0.984232 |\n",
      "| learn/start_gradnorm  | 4.87323  |\n",
      "| learn/time            | 0.041114 |\n",
      "| smooth/fun            | 2.0033   |\n",
      "| smooth/success        | True     |\n",
      "| smooth/time           | 1.48744  |\n",
      "------------------------------------\n",
      "\u001b[32m[0622 13:00:40 @ceem.py:122]\u001b[0m Executing smoothing step\n"
     ]
    },
    {
     "name": "stderr",
     "output_type": "stream",
     "text": [
      "\n",
      "100%|██████████| 1/1 [00:00<00:00,  1.81it/s]"
     ]
    },
    {
     "name": "stdout",
     "output_type": "stream",
     "text": [
      "\u001b[32m[0622 13:00:40 @ceem.py:125]\u001b[0m Executing learning step\n",
      "-------------------------------------\n",
      "| learn/end_feval       | 0.916937  |\n",
      "| learn/end_gradnorm    | 5.61954   |\n",
      "| learn/net_update_norm | 0.0530927 |\n",
      "| learn/start_feval     | 0.93644   |\n",
      "| learn/start_gradnorm  | 5.61907   |\n",
      "| learn/time            | 0.0431192 |\n",
      "| smooth/fun            | 1.94696   |\n",
      "| smooth/success        | True      |\n",
      "| smooth/time           | 0.55139   |\n",
      "-------------------------------------\n",
      "\u001b[32m[0622 13:00:40 @ceem.py:122]\u001b[0m Executing smoothing step\n"
     ]
    },
    {
     "name": "stderr",
     "output_type": "stream",
     "text": [
      "\n",
      "100%|██████████| 1/1 [00:00<00:00,  3.12it/s]"
     ]
    },
    {
     "name": "stdout",
     "output_type": "stream",
     "text": [
      "\u001b[32m[0622 13:00:41 @ceem.py:125]\u001b[0m Executing learning step\n",
      "-------------------------------------\n",
      "| learn/end_feval       | 0.892121  |\n",
      "| learn/end_gradnorm    | 6.25716   |\n",
      "| learn/net_update_norm | 0.0399734 |\n",
      "| learn/start_feval     | 0.904185  |\n",
      "| learn/start_gradnorm  | 6.25779   |\n",
      "| learn/time            | 0.0422176 |\n",
      "| smooth/fun            | 1.91191   |\n",
      "| smooth/success        | True      |\n",
      "| smooth/time           | 0.320265  |\n",
      "-------------------------------------\n",
      "\u001b[32m[0622 13:00:41 @ceem.py:122]\u001b[0m Executing smoothing step\n"
     ]
    },
    {
     "name": "stderr",
     "output_type": "stream",
     "text": [
      "\n",
      "100%|██████████| 1/1 [00:00<00:00,  4.17it/s]"
     ]
    },
    {
     "name": "stdout",
     "output_type": "stream",
     "text": [
      "\u001b[32m[0622 13:00:41 @ceem.py:125]\u001b[0m Executing learning step\n",
      "-------------------------------------\n",
      "| learn/end_feval       | 0.874586  |\n",
      "| learn/end_gradnorm    | 6.8026    |\n",
      "| learn/net_update_norm | 0.0305285 |\n",
      "| learn/start_feval     | 0.882346  |\n",
      "| learn/start_gradnorm  | 6.80297   |\n",
      "| learn/time            | 0.0434447 |\n",
      "| smooth/fun            | 1.88993   |\n",
      "| smooth/success        | True      |\n",
      "| smooth/time           | 0.239945  |\n",
      "-------------------------------------\n",
      "\u001b[32m[0622 13:00:41 @ceem.py:122]\u001b[0m Executing smoothing step\n"
     ]
    },
    {
     "name": "stderr",
     "output_type": "stream",
     "text": [
      "\n",
      "100%|██████████| 1/1 [00:00<00:00,  5.46it/s]"
     ]
    },
    {
     "name": "stdout",
     "output_type": "stream",
     "text": [
      "\u001b[32m[0622 13:00:41 @ceem.py:125]\u001b[0m Executing learning step\n",
      "-------------------------------------\n",
      "| learn/end_feval       | 0.861698  |\n",
      "| learn/end_gradnorm    | 7.27556   |\n",
      "| learn/net_update_norm | 0.0238601 |\n",
      "| learn/start_feval     | 0.866995  |\n",
      "| learn/start_gradnorm  | 7.27512   |\n",
      "| learn/time            | 0.0400703 |\n",
      "| smooth/fun            | 1.87558   |\n",
      "| smooth/success        | True      |\n",
      "| smooth/time           | 0.18319   |\n",
      "-------------------------------------\n",
      "\u001b[32m[0622 13:00:41 @ceem.py:122]\u001b[0m Executing smoothing step\n"
     ]
    },
    {
     "name": "stderr",
     "output_type": "stream",
     "text": [
      "\n",
      "100%|██████████| 1/1 [00:00<00:00,  5.90it/s]"
     ]
    },
    {
     "name": "stdout",
     "output_type": "stream",
     "text": [
      "\u001b[32m[0622 13:00:41 @ceem.py:125]\u001b[0m Executing learning step\n",
      "-------------------------------------\n",
      "| learn/end_feval       | 0.851859  |\n",
      "| learn/end_gradnorm    | 7.69165   |\n",
      "| learn/net_update_norm | 0.0195078 |\n",
      "| learn/start_feval     | 0.855758  |\n",
      "| learn/start_gradnorm  | 7.69234   |\n",
      "| learn/time            | 0.0384972 |\n",
      "| smooth/fun            | 1.86562   |\n",
      "| smooth/success        | True      |\n",
      "| smooth/time           | 0.169423  |\n",
      "-------------------------------------\n",
      "\u001b[32m[0622 13:00:42 @ceem.py:122]\u001b[0m Executing smoothing step\n"
     ]
    },
    {
     "name": "stderr",
     "output_type": "stream",
     "text": [
      "\n",
      "100%|██████████| 1/1 [00:00<00:00,  6.95it/s]"
     ]
    },
    {
     "name": "stdout",
     "output_type": "stream",
     "text": [
      "\u001b[32m[0622 13:00:42 @ceem.py:125]\u001b[0m Executing learning step\n"
     ]
    },
    {
     "name": "stderr",
     "output_type": "stream",
     "text": [
      "\n"
     ]
    },
    {
     "name": "stdout",
     "output_type": "stream",
     "text": [
      "-------------------------------------\n",
      "| learn/end_feval       | 0.843938  |\n",
      "| learn/end_gradnorm    | 8.06491   |\n",
      "| learn/net_update_norm | 0.0164597 |\n",
      "| learn/start_feval     | 0.846989  |\n",
      "| learn/start_gradnorm  | 8.06514   |\n",
      "| learn/time            | 0.0377074 |\n",
      "| smooth/fun            | 1.85816   |\n",
      "| smooth/success        | True      |\n",
      "| smooth/time           | 0.143889  |\n",
      "-------------------------------------\n",
      "\u001b[32m[0622 13:00:42 @ceem.py:122]\u001b[0m Executing smoothing step\n"
     ]
    },
    {
     "name": "stderr",
     "output_type": "stream",
     "text": [
      "100%|██████████| 1/1 [00:00<00:00,  7.46it/s]"
     ]
    },
    {
     "name": "stdout",
     "output_type": "stream",
     "text": [
      "\u001b[32m[0622 13:00:42 @ceem.py:125]\u001b[0m Executing learning step\n"
     ]
    },
    {
     "name": "stderr",
     "output_type": "stream",
     "text": [
      "\n"
     ]
    },
    {
     "name": "stdout",
     "output_type": "stream",
     "text": [
      "-------------------------------------\n",
      "| learn/end_feval       | 0.83774   |\n",
      "| learn/end_gradnorm    | 8.40616   |\n",
      "| learn/net_update_norm | 0.0145184 |\n",
      "| learn/start_feval     | 0.840283  |\n",
      "| learn/start_gradnorm  | 8.40642   |\n",
      "| learn/time            | 0.0404326 |\n",
      "| smooth/fun            | 1.85221   |\n",
      "| smooth/success        | True      |\n",
      "| smooth/time           | 0.133973  |\n",
      "-------------------------------------\n",
      "\u001b[32m[0622 13:00:42 @ceem.py:122]\u001b[0m Executing smoothing step\n"
     ]
    },
    {
     "name": "stderr",
     "output_type": "stream",
     "text": [
      "100%|██████████| 1/1 [00:00<00:00,  9.02it/s]"
     ]
    },
    {
     "name": "stdout",
     "output_type": "stream",
     "text": [
      "\u001b[32m[0622 13:00:42 @ceem.py:125]\u001b[0m Executing learning step\n"
     ]
    },
    {
     "name": "stderr",
     "output_type": "stream",
     "text": [
      "\n"
     ]
    },
    {
     "name": "stdout",
     "output_type": "stream",
     "text": [
      "-------------------------------------\n",
      "| learn/end_feval       | 0.832112  |\n",
      "| learn/end_gradnorm    | 8.72147   |\n",
      "| learn/net_update_norm | 0.0130127 |\n",
      "| learn/start_feval     | 0.834296  |\n",
      "| learn/start_gradnorm  | 8.72088   |\n",
      "| learn/time            | 0.0398408 |\n",
      "| smooth/fun            | 1.84723   |\n",
      "| smooth/success        | True      |\n",
      "| smooth/time           | 0.110813  |\n",
      "-------------------------------------\n",
      "\u001b[32m[0622 13:00:42 @ceem.py:122]\u001b[0m Executing smoothing step\n"
     ]
    },
    {
     "name": "stderr",
     "output_type": "stream",
     "text": [
      "100%|██████████| 1/1 [00:00<00:00, 10.75it/s]"
     ]
    },
    {
     "name": "stdout",
     "output_type": "stream",
     "text": [
      "\u001b[32m[0622 13:00:42 @ceem.py:125]\u001b[0m Executing learning step\n",
      "-------------------------------------\n",
      "| learn/end_feval       | 0.827141  |\n",
      "| learn/end_gradnorm    | 9.01554   |\n",
      "| learn/net_update_norm | 0.0120135 |\n",
      "| learn/start_feval     | 0.829071  |\n",
      "| learn/start_gradnorm  | 9.01496   |\n",
      "| learn/time            | 0.0369861 |\n",
      "| smooth/fun            | 1.84292   |\n",
      "| smooth/success        | True      |\n",
      "| smooth/time           | 0.0927347 |\n",
      "-------------------------------------\n",
      "\u001b[32m[0622 13:00:42 @ceem.py:122]\u001b[0m Executing smoothing step\n"
     ]
    },
    {
     "name": "stderr",
     "output_type": "stream",
     "text": [
      "\n",
      "100%|██████████| 1/1 [00:00<00:00, 10.68it/s]"
     ]
    },
    {
     "name": "stdout",
     "output_type": "stream",
     "text": [
      "\u001b[32m[0622 13:00:42 @ceem.py:125]\u001b[0m Executing learning step\n",
      "-------------------------------------\n",
      "| learn/end_feval       | 0.823037  |\n",
      "| learn/end_gradnorm    | 9.29404   |\n",
      "| learn/net_update_norm | 0.0113147 |\n",
      "| learn/start_feval     | 0.824782  |\n",
      "| learn/start_gradnorm  | 9.29332   |\n",
      "| learn/time            | 0.0349273 |\n",
      "| smooth/fun            | 1.83909   |\n",
      "| smooth/success        | True      |\n",
      "| smooth/time           | 0.0933078 |\n",
      "-------------------------------------\n",
      "\u001b[32m[0622 13:00:42 @ceem.py:122]\u001b[0m Executing smoothing step\n"
     ]
    },
    {
     "name": "stderr",
     "output_type": "stream",
     "text": [
      "\n",
      "100%|██████████| 1/1 [00:00<00:00,  9.66it/s]"
     ]
    },
    {
     "name": "stdout",
     "output_type": "stream",
     "text": [
      "\u001b[32m[0622 13:00:42 @ceem.py:125]\u001b[0m Executing learning step\n",
      "-------------------------------------\n",
      "| learn/end_feval       | 0.819412  |\n",
      "| learn/end_gradnorm    | 9.55967   |\n",
      "| learn/net_update_norm | 0.0107378 |\n",
      "| learn/start_feval     | 0.821005  |\n",
      "| learn/start_gradnorm  | 9.55854   |\n",
      "| learn/time            | 0.0380061 |\n",
      "| smooth/fun            | 1.83562   |\n",
      "| smooth/success        | True      |\n",
      "| smooth/time           | 0.1034    |\n",
      "-------------------------------------\n",
      "\u001b[32m[0622 13:00:42 @ceem.py:122]\u001b[0m Executing smoothing step\n"
     ]
    },
    {
     "name": "stderr",
     "output_type": "stream",
     "text": [
      "\n",
      "100%|██████████| 1/1 [00:00<00:00, 11.92it/s]"
     ]
    },
    {
     "name": "stdout",
     "output_type": "stream",
     "text": [
      "\u001b[32m[0622 13:00:43 @ceem.py:125]\u001b[0m Executing learning step\n",
      "-------------------------------------\n",
      "| learn/end_feval       | 0.815767  |\n",
      "| learn/end_gradnorm    | 9.81204   |\n",
      "| learn/net_update_norm | 0.0102193 |\n",
      "| learn/start_feval     | 0.817223  |\n",
      "| learn/start_gradnorm  | 9.81114   |\n",
      "| learn/time            | 0.0399601 |\n",
      "| smooth/fun            | 1.83247   |\n",
      "| smooth/success        | True      |\n",
      "| smooth/time           | 0.0835499 |\n",
      "-------------------------------------\n",
      "\u001b[32m[0622 13:00:43 @ceem.py:122]\u001b[0m Executing smoothing step\n"
     ]
    },
    {
     "name": "stderr",
     "output_type": "stream",
     "text": [
      "\n",
      "100%|██████████| 1/1 [00:00<00:00, 12.11it/s]"
     ]
    },
    {
     "name": "stdout",
     "output_type": "stream",
     "text": [
      "\u001b[32m[0622 13:00:43 @ceem.py:125]\u001b[0m Executing learning step\n",
      "--------------------------------------\n",
      "| learn/end_feval       | 0.812581   |\n",
      "| learn/end_gradnorm    | 10.0525    |\n",
      "| learn/net_update_norm | 0.00981794 |\n",
      "| learn/start_feval     | 0.813921   |\n",
      "| learn/start_gradnorm  | 10.0524    |\n",
      "| learn/time            | 0.0395458  |\n",
      "| smooth/fun            | 1.82958    |\n",
      "| smooth/success        | True       |\n",
      "| smooth/time           | 0.0822732  |\n",
      "--------------------------------------\n",
      "\u001b[32m[0622 13:00:43 @ceem.py:122]\u001b[0m Executing smoothing step\n"
     ]
    },
    {
     "name": "stderr",
     "output_type": "stream",
     "text": [
      "\n",
      "100%|██████████| 1/1 [00:00<00:00, 11.70it/s]"
     ]
    },
    {
     "name": "stdout",
     "output_type": "stream",
     "text": [
      "\u001b[32m[0622 13:00:43 @ceem.py:125]\u001b[0m Executing learning step\n",
      "--------------------------------------\n",
      "| learn/end_feval       | 0.809733   |\n",
      "| learn/end_gradnorm    | 10.2839    |\n",
      "| learn/net_update_norm | 0.00938567 |\n",
      "| learn/start_feval     | 0.810968   |\n",
      "| learn/start_gradnorm  | 10.2831    |\n",
      "| learn/time            | 0.036322   |\n",
      "| smooth/fun            | 1.82692    |\n",
      "| smooth/success        | True       |\n",
      "| smooth/time           | 0.0851272  |\n",
      "--------------------------------------\n",
      "\u001b[32m[0622 13:00:43 @ceem.py:122]\u001b[0m Executing smoothing step\n"
     ]
    },
    {
     "name": "stderr",
     "output_type": "stream",
     "text": [
      "\n",
      "100%|██████████| 1/1 [00:00<00:00, 10.33it/s]"
     ]
    },
    {
     "name": "stdout",
     "output_type": "stream",
     "text": [
      "\u001b[32m[0622 13:00:43 @ceem.py:125]\u001b[0m Executing learning step\n",
      "--------------------------------------\n",
      "| learn/end_feval       | 0.807119   |\n",
      "| learn/end_gradnorm    | 10.5058    |\n",
      "| learn/net_update_norm | 0.00903659 |\n",
      "| learn/start_feval     | 0.808258   |\n",
      "| learn/start_gradnorm  | 10.5055    |\n",
      "| learn/time            | 0.0379129  |\n",
      "| smooth/fun            | 1.82448    |\n",
      "| smooth/success        | True       |\n",
      "| smooth/time           | 0.0964797  |\n",
      "--------------------------------------\n",
      "\u001b[32m[0622 13:00:43 @ceem.py:122]\u001b[0m Executing smoothing step\n"
     ]
    },
    {
     "name": "stderr",
     "output_type": "stream",
     "text": [
      "\n",
      "100%|██████████| 1/1 [00:00<00:00, 11.76it/s]"
     ]
    },
    {
     "name": "stdout",
     "output_type": "stream",
     "text": [
      "\u001b[32m[0622 13:00:43 @ceem.py:125]\u001b[0m Executing learning step\n",
      "--------------------------------------\n",
      "| learn/end_feval       | 0.804693   |\n",
      "| learn/end_gradnorm    | 10.7175    |\n",
      "| learn/net_update_norm | 0.00873475 |\n",
      "| learn/start_feval     | 0.805744   |\n",
      "| learn/start_gradnorm  | 10.7187    |\n",
      "| learn/time            | 0.0351717  |\n",
      "| smooth/fun            | 1.82222    |\n",
      "| smooth/success        | True       |\n",
      "| smooth/time           | 0.0847521  |\n",
      "--------------------------------------\n",
      "\u001b[32m[0622 13:00:43 @ceem.py:122]\u001b[0m Executing smoothing step\n"
     ]
    },
    {
     "name": "stderr",
     "output_type": "stream",
     "text": [
      "\n",
      "100%|██████████| 1/1 [00:00<00:00, 10.95it/s]"
     ]
    },
    {
     "name": "stdout",
     "output_type": "stream",
     "text": [
      "\u001b[32m[0622 13:00:43 @ceem.py:125]\u001b[0m Executing learning step\n",
      "-------------------------------------\n",
      "| learn/end_feval       | 0.802412  |\n",
      "| learn/end_gradnorm    | 10.9209   |\n",
      "| learn/net_update_norm | 0.0083831 |\n",
      "| learn/start_feval     | 0.80338   |\n",
      "| learn/start_gradnorm  | 10.9221   |\n",
      "| learn/time            | 0.0429635 |\n",
      "| smooth/fun            | 1.82013   |\n",
      "| smooth/success        | True      |\n",
      "| smooth/time           | 0.0909795 |\n",
      "-------------------------------------\n",
      "\u001b[32m[0622 13:00:43 @ceem.py:122]\u001b[0m Executing smoothing step\n"
     ]
    },
    {
     "name": "stderr",
     "output_type": "stream",
     "text": [
      "\n",
      "100%|██████████| 1/1 [00:00<00:00, 12.96it/s]"
     ]
    },
    {
     "name": "stdout",
     "output_type": "stream",
     "text": [
      "\u001b[32m[0622 13:00:43 @ceem.py:125]\u001b[0m Executing learning step\n",
      "--------------------------------------\n",
      "| learn/end_feval       | 0.799869   |\n",
      "| learn/end_gradnorm    | 11.1154    |\n",
      "| learn/net_update_norm | 0.00789157 |\n",
      "| learn/start_feval     | 0.800741   |\n",
      "| learn/start_gradnorm  | 11.1147    |\n",
      "| learn/time            | 0.0461216  |\n",
      "| smooth/fun            | 1.81821    |\n",
      "| smooth/success        | True       |\n",
      "| smooth/time           | 0.0767993  |\n",
      "--------------------------------------\n",
      "\u001b[32m[0622 13:00:43 @ceem.py:122]\u001b[0m Executing smoothing step\n"
     ]
    },
    {
     "name": "stderr",
     "output_type": "stream",
     "text": [
      "\n",
      "100%|██████████| 1/1 [00:00<00:00, 12.95it/s]"
     ]
    },
    {
     "name": "stdout",
     "output_type": "stream",
     "text": [
      "\u001b[32m[0622 13:00:44 @ceem.py:125]\u001b[0m Executing learning step\n",
      "--------------------------------------\n",
      "| learn/end_feval       | 0.797883   |\n",
      "| learn/end_gradnorm    | 11.3023    |\n",
      "| learn/net_update_norm | 0.00755516 |\n",
      "| learn/start_feval     | 0.798684   |\n",
      "| learn/start_gradnorm  | 11.3015    |\n",
      "| learn/time            | 0.0420027  |\n",
      "| smooth/fun            | 1.81648    |\n",
      "| smooth/success        | True       |\n",
      "| smooth/time           | 0.0768843  |\n",
      "--------------------------------------\n",
      "\u001b[32m[0622 13:00:44 @ceem.py:122]\u001b[0m Executing smoothing step\n"
     ]
    },
    {
     "name": "stderr",
     "output_type": "stream",
     "text": [
      "\n",
      "100%|██████████| 1/1 [00:00<00:00, 14.08it/s]"
     ]
    },
    {
     "name": "stdout",
     "output_type": "stream",
     "text": [
      "\u001b[32m[0622 13:00:44 @ceem.py:125]\u001b[0m Executing learning step\n",
      "--------------------------------------\n",
      "| learn/end_feval       | 0.796085   |\n",
      "| learn/end_gradnorm    | 11.4809    |\n",
      "| learn/net_update_norm | 0.00730872 |\n",
      "| learn/start_feval     | 0.796823   |\n",
      "| learn/start_gradnorm  | 11.4813    |\n",
      "| learn/time            | 0.0470688  |\n",
      "| smooth/fun            | 1.81488    |\n",
      "| smooth/success        | True       |\n",
      "| smooth/time           | 0.0706692  |\n",
      "--------------------------------------\n",
      "\u001b[32m[0622 13:00:44 @ceem.py:122]\u001b[0m Executing smoothing step\n"
     ]
    },
    {
     "name": "stderr",
     "output_type": "stream",
     "text": [
      "\n",
      "100%|██████████| 1/1 [00:00<00:00, 14.53it/s]"
     ]
    },
    {
     "name": "stdout",
     "output_type": "stream",
     "text": [
      "\u001b[32m[0622 13:00:44 @ceem.py:125]\u001b[0m Executing learning step\n",
      "--------------------------------------\n",
      "| learn/end_feval       | 0.794418   |\n",
      "| learn/end_gradnorm    | 11.6524    |\n",
      "| learn/net_update_norm | 0.00702508 |\n",
      "| learn/start_feval     | 0.795098   |\n",
      "| learn/start_gradnorm  | 11.6529    |\n",
      "| learn/time            | 0.0383077  |\n",
      "| smooth/fun            | 1.8134     |\n",
      "| smooth/success        | True       |\n",
      "| smooth/time           | 0.0685432  |\n",
      "--------------------------------------\n",
      "\u001b[32m[0622 13:00:44 @ceem.py:122]\u001b[0m Executing smoothing step\n"
     ]
    },
    {
     "name": "stderr",
     "output_type": "stream",
     "text": [
      "\n",
      "100%|██████████| 1/1 [00:00<00:00, 15.50it/s]"
     ]
    },
    {
     "name": "stdout",
     "output_type": "stream",
     "text": [
      "\u001b[32m[0622 13:00:44 @ceem.py:125]\u001b[0m Executing learning step\n",
      "--------------------------------------\n",
      "| learn/end_feval       | 0.792907   |\n",
      "| learn/end_gradnorm    | 11.8183    |\n",
      "| learn/net_update_norm | 0.00670828 |\n",
      "| learn/start_feval     | 0.793533   |\n",
      "| learn/start_gradnorm  | 11.818     |\n",
      "| learn/time            | 0.0390157  |\n",
      "| smooth/fun            | 1.81204    |\n",
      "| smooth/success        | True       |\n",
      "| smooth/time           | 0.0641964  |\n",
      "--------------------------------------\n",
      "\u001b[32m[0622 13:00:44 @ceem.py:122]\u001b[0m Executing smoothing step\n"
     ]
    },
    {
     "name": "stderr",
     "output_type": "stream",
     "text": [
      "\n",
      "100%|██████████| 1/1 [00:00<00:00, 16.03it/s]"
     ]
    },
    {
     "name": "stdout",
     "output_type": "stream",
     "text": [
      "\u001b[32m[0622 13:00:44 @ceem.py:125]\u001b[0m Executing learning step\n",
      "-------------------------------------\n",
      "| learn/end_feval       | 0.791484  |\n",
      "| learn/end_gradnorm    | 11.9769   |\n",
      "| learn/net_update_norm | 0.0064845 |\n",
      "| learn/start_feval     | 0.79206   |\n",
      "| learn/start_gradnorm  | 11.9775   |\n",
      "| learn/time            | 0.0368782 |\n",
      "| smooth/fun            | 1.81079   |\n",
      "| smooth/success        | True      |\n",
      "| smooth/time           | 0.062088  |\n",
      "-------------------------------------\n",
      "\u001b[32m[0622 13:00:44 @ceem.py:122]\u001b[0m Executing smoothing step\n"
     ]
    },
    {
     "name": "stderr",
     "output_type": "stream",
     "text": [
      "\n",
      "100%|██████████| 1/1 [00:00<00:00, 15.22it/s]"
     ]
    },
    {
     "name": "stdout",
     "output_type": "stream",
     "text": [
      "\u001b[32m[0622 13:00:44 @ceem.py:125]\u001b[0m Executing learning step\n",
      "--------------------------------------\n",
      "| learn/end_feval       | 0.79017    |\n",
      "| learn/end_gradnorm    | 12.1299    |\n",
      "| learn/net_update_norm | 0.00619257 |\n",
      "| learn/start_feval     | 0.7907     |\n",
      "| learn/start_gradnorm  | 12.1299    |\n",
      "| learn/time            | 0.0412394  |\n",
      "| smooth/fun            | 1.80963    |\n",
      "| smooth/success        | True       |\n",
      "| smooth/time           | 0.0652029  |\n",
      "--------------------------------------\n",
      "\u001b[32m[0622 13:00:44 @ceem.py:122]\u001b[0m Executing smoothing step\n"
     ]
    },
    {
     "name": "stderr",
     "output_type": "stream",
     "text": [
      "\n",
      "100%|██████████| 1/1 [00:00<00:00, 14.30it/s]"
     ]
    },
    {
     "name": "stdout",
     "output_type": "stream",
     "text": [
      "\u001b[32m[0622 13:00:44 @ceem.py:125]\u001b[0m Executing learning step\n",
      "-------------------------------------\n",
      "| learn/end_feval       | 0.788949  |\n",
      "| learn/end_gradnorm    | 12.2763   |\n",
      "| learn/net_update_norm | 0.0059694 |\n",
      "| learn/start_feval     | 0.789437  |\n",
      "| learn/start_gradnorm  | 12.2771   |\n",
      "| learn/time            | 0.0443073 |\n",
      "| smooth/fun            | 1.80857   |\n",
      "| smooth/success        | True      |\n",
      "| smooth/time           | 0.0695811 |\n",
      "-------------------------------------\n",
      "\u001b[32m[0622 13:00:44 @ceem.py:122]\u001b[0m Executing smoothing step\n"
     ]
    },
    {
     "name": "stderr",
     "output_type": "stream",
     "text": [
      "\n",
      "100%|██████████| 1/1 [00:00<00:00, 14.99it/s]"
     ]
    },
    {
     "name": "stdout",
     "output_type": "stream",
     "text": [
      "\u001b[32m[0622 13:00:44 @ceem.py:125]\u001b[0m Executing learning step\n",
      "-------------------------------------\n",
      "| learn/end_feval       | 0.787793  |\n",
      "| learn/end_gradnorm    | 12.417    |\n",
      "| learn/net_update_norm | 0.0057262 |\n",
      "| learn/start_feval     | 0.788241  |\n",
      "| learn/start_gradnorm  | 12.4176   |\n",
      "| learn/time            | 0.0420923 |\n",
      "| smooth/fun            | 1.80759   |\n",
      "| smooth/success        | True      |\n",
      "| smooth/time           | 0.0663352 |\n",
      "-------------------------------------\n",
      "\u001b[32m[0622 13:00:44 @ceem.py:122]\u001b[0m Executing smoothing step\n"
     ]
    },
    {
     "name": "stderr",
     "output_type": "stream",
     "text": [
      "\n",
      "100%|██████████| 1/1 [00:00<00:00, 15.46it/s]"
     ]
    },
    {
     "name": "stdout",
     "output_type": "stream",
     "text": [
      "\u001b[32m[0622 13:00:44 @ceem.py:125]\u001b[0m Executing learning step\n",
      "--------------------------------------\n",
      "| learn/end_feval       | 0.78673    |\n",
      "| learn/end_gradnorm    | 12.5534    |\n",
      "| learn/net_update_norm | 0.00545805 |\n",
      "| learn/start_feval     | 0.787142   |\n",
      "| learn/start_gradnorm  | 12.5528    |\n",
      "| learn/time            | 0.0408952  |\n",
      "| smooth/fun            | 1.80668    |\n",
      "| smooth/success        | True       |\n",
      "| smooth/time           | 0.0643814  |\n",
      "--------------------------------------\n",
      "\u001b[32m[0622 13:00:45 @ceem.py:122]\u001b[0m Executing smoothing step\n"
     ]
    },
    {
     "name": "stderr",
     "output_type": "stream",
     "text": [
      "\n",
      "100%|██████████| 1/1 [00:00<00:00, 16.74it/s]"
     ]
    },
    {
     "name": "stdout",
     "output_type": "stream",
     "text": [
      "\u001b[32m[0622 13:00:45 @ceem.py:125]\u001b[0m Executing learning step\n",
      "--------------------------------------\n",
      "| learn/end_feval       | 0.785783   |\n",
      "| learn/end_gradnorm    | 12.6836    |\n",
      "| learn/net_update_norm | 0.00525961 |\n",
      "| learn/start_feval     | 0.786162   |\n",
      "| learn/start_gradnorm  | 12.684     |\n",
      "| learn/time            | 0.0391051  |\n",
      "| smooth/fun            | 1.80586    |\n",
      "| smooth/success        | True       |\n",
      "| smooth/time           | 0.0594609  |\n",
      "--------------------------------------\n",
      "\u001b[32m[0622 13:00:45 @ceem.py:122]\u001b[0m Executing smoothing step\n"
     ]
    },
    {
     "name": "stderr",
     "output_type": "stream",
     "text": [
      "\n",
      "100%|██████████| 1/1 [00:00<00:00, 16.92it/s]"
     ]
    },
    {
     "name": "stdout",
     "output_type": "stream",
     "text": [
      "\u001b[32m[0622 13:00:45 @ceem.py:125]\u001b[0m Executing learning step\n",
      "--------------------------------------\n",
      "| learn/end_feval       | 0.784857   |\n",
      "| learn/end_gradnorm    | 12.81      |\n",
      "| learn/net_update_norm | 0.00501646 |\n",
      "| learn/start_feval     | 0.785206   |\n",
      "| learn/start_gradnorm  | 12.8091    |\n",
      "| learn/time            | 0.035893   |\n",
      "| smooth/fun            | 1.80509    |\n",
      "| smooth/success        | True       |\n",
      "| smooth/time           | 0.0588205  |\n",
      "--------------------------------------\n",
      "\u001b[32m[0622 13:00:45 @ceem.py:122]\u001b[0m Executing smoothing step\n"
     ]
    },
    {
     "name": "stderr",
     "output_type": "stream",
     "text": [
      "\n",
      "100%|██████████| 1/1 [00:00<00:00, 17.10it/s]"
     ]
    },
    {
     "name": "stdout",
     "output_type": "stream",
     "text": [
      "\u001b[32m[0622 13:00:45 @ceem.py:125]\u001b[0m Executing learning step\n",
      "--------------------------------------\n",
      "| learn/end_feval       | 0.784023   |\n",
      "| learn/end_gradnorm    | 12.9295    |\n",
      "| learn/net_update_norm | 0.00487209 |\n",
      "| learn/start_feval     | 0.784344   |\n",
      "| learn/start_gradnorm  | 12.9305    |\n",
      "| learn/time            | 0.03726    |\n",
      "| smooth/fun            | 1.80439    |\n",
      "| smooth/success        | True       |\n",
      "| smooth/time           | 0.0582201  |\n",
      "--------------------------------------\n",
      "\u001b[32m[0622 13:00:45 @ceem.py:122]\u001b[0m Executing smoothing step\n"
     ]
    },
    {
     "name": "stderr",
     "output_type": "stream",
     "text": [
      "\n",
      "100%|██████████| 1/1 [00:00<00:00, 17.23it/s]"
     ]
    },
    {
     "name": "stdout",
     "output_type": "stream",
     "text": [
      "\u001b[32m[0622 13:00:45 @ceem.py:125]\u001b[0m Executing learning step\n",
      "--------------------------------------\n",
      "| learn/end_feval       | 0.783242   |\n",
      "| learn/end_gradnorm    | 13.0462    |\n",
      "| learn/net_update_norm | 0.00461608 |\n",
      "| learn/start_feval     | 0.783538   |\n",
      "| learn/start_gradnorm  | 13.0454    |\n",
      "| learn/time            | 0.0376709  |\n",
      "| smooth/fun            | 1.80374    |\n",
      "| smooth/success        | True       |\n",
      "| smooth/time           | 0.057424   |\n",
      "--------------------------------------\n",
      "\u001b[32m[0622 13:00:45 @ceem.py:122]\u001b[0m Executing smoothing step\n"
     ]
    },
    {
     "name": "stderr",
     "output_type": "stream",
     "text": [
      "\n",
      "100%|██████████| 1/1 [00:00<00:00, 16.73it/s]"
     ]
    },
    {
     "name": "stdout",
     "output_type": "stream",
     "text": [
      "\u001b[32m[0622 13:00:45 @ceem.py:125]\u001b[0m Executing learning step\n",
      "--------------------------------------\n",
      "| learn/end_feval       | 0.782509   |\n",
      "| learn/end_gradnorm    | 13.157     |\n",
      "| learn/net_update_norm | 0.00447242 |\n",
      "| learn/start_feval     | 0.78278    |\n",
      "| learn/start_gradnorm  | 13.1574    |\n",
      "| learn/time            | 0.0373481  |\n",
      "| smooth/fun            | 1.80315    |\n",
      "| smooth/success        | True       |\n",
      "| smooth/time           | 0.0594666  |\n",
      "--------------------------------------\n",
      "\u001b[32m[0622 13:00:45 @ceem.py:122]\u001b[0m Executing smoothing step\n"
     ]
    },
    {
     "name": "stderr",
     "output_type": "stream",
     "text": [
      "\n",
      "100%|██████████| 1/1 [00:00<00:00, 17.32it/s]"
     ]
    },
    {
     "name": "stdout",
     "output_type": "stream",
     "text": [
      "\u001b[32m[0622 13:00:45 @ceem.py:125]\u001b[0m Executing learning step\n",
      "-------------------------------------\n",
      "| learn/end_feval       | 0.781841  |\n",
      "| learn/end_gradnorm    | 13.2632   |\n",
      "| learn/net_update_norm | 0.0043064 |\n",
      "| learn/start_feval     | 0.782091  |\n",
      "| learn/start_gradnorm  | 13.2639   |\n",
      "| learn/time            | 0.034733  |\n",
      "| smooth/fun            | 1.8026    |\n",
      "| smooth/success        | True      |\n",
      "| smooth/time           | 0.0574086 |\n",
      "-------------------------------------\n",
      "\u001b[32m[0622 13:00:45 @ceem.py:122]\u001b[0m Executing smoothing step\n"
     ]
    },
    {
     "name": "stderr",
     "output_type": "stream",
     "text": [
      "\n",
      "100%|██████████| 1/1 [00:00<00:00, 17.20it/s]"
     ]
    },
    {
     "name": "stdout",
     "output_type": "stream",
     "text": [
      "\u001b[32m[0622 13:00:45 @ceem.py:125]\u001b[0m Executing learning step\n",
      "--------------------------------------\n",
      "| learn/end_feval       | 0.781193   |\n",
      "| learn/end_gradnorm    | 13.3665    |\n",
      "| learn/net_update_norm | 0.00407227 |\n",
      "| learn/start_feval     | 0.781423   |\n",
      "| learn/start_gradnorm  | 13.3657    |\n",
      "| learn/time            | 0.0367778  |\n",
      "| smooth/fun            | 1.8021     |\n",
      "| smooth/success        | True       |\n",
      "| smooth/time           | 0.0577862  |\n",
      "--------------------------------------\n",
      "\u001b[32m[0622 13:00:45 @ceem.py:122]\u001b[0m Executing smoothing step\n"
     ]
    },
    {
     "name": "stderr",
     "output_type": "stream",
     "text": [
      "\n",
      "100%|██████████| 1/1 [00:00<00:00, 18.04it/s]"
     ]
    },
    {
     "name": "stdout",
     "output_type": "stream",
     "text": [
      "\u001b[32m[0622 13:00:45 @ceem.py:125]\u001b[0m Executing learning step\n",
      "--------------------------------------\n",
      "| learn/end_feval       | 0.78063    |\n",
      "| learn/end_gradnorm    | 13.4657    |\n",
      "| learn/net_update_norm | 0.00391341 |\n",
      "| learn/start_feval     | 0.780842   |\n",
      "| learn/start_gradnorm  | 13.4652    |\n",
      "| learn/time            | 0.0394518  |\n",
      "| smooth/fun            | 1.80164    |\n",
      "| smooth/success        | True       |\n",
      "| smooth/time           | 0.0551119  |\n",
      "--------------------------------------\n",
      "\u001b[32m[0622 13:00:45 @ceem.py:122]\u001b[0m Executing smoothing step\n"
     ]
    },
    {
     "name": "stderr",
     "output_type": "stream",
     "text": [
      "\n",
      "100%|██████████| 1/1 [00:00<00:00, 17.66it/s]"
     ]
    },
    {
     "name": "stdout",
     "output_type": "stream",
     "text": [
      "\u001b[32m[0622 13:00:45 @ceem.py:125]\u001b[0m Executing learning step\n",
      "--------------------------------------\n",
      "| learn/end_feval       | 0.780075   |\n",
      "| learn/end_gradnorm    | 13.56      |\n",
      "| learn/net_update_norm | 0.00380541 |\n",
      "| learn/start_feval     | 0.78027    |\n",
      "| learn/start_gradnorm  | 13.5604    |\n",
      "| learn/time            | 0.0370096  |\n",
      "| smooth/fun            | 1.80121    |\n",
      "| smooth/success        | True       |\n",
      "| smooth/time           | 0.0563091  |\n",
      "--------------------------------------\n",
      "\u001b[32m[0622 13:00:45 @ceem.py:122]\u001b[0m Executing smoothing step\n"
     ]
    },
    {
     "name": "stderr",
     "output_type": "stream",
     "text": [
      "\n",
      "100%|██████████| 1/1 [00:00<00:00, 17.16it/s]"
     ]
    },
    {
     "name": "stdout",
     "output_type": "stream",
     "text": [
      "\u001b[32m[0622 13:00:46 @ceem.py:125]\u001b[0m Executing learning step\n",
      "--------------------------------------\n",
      "| learn/end_feval       | 0.779579   |\n",
      "| learn/end_gradnorm    | 13.6511    |\n",
      "| learn/net_update_norm | 0.00361666 |\n",
      "| learn/start_feval     | 0.779758   |\n",
      "| learn/start_gradnorm  | 13.6509    |\n",
      "| learn/time            | 0.0405024  |\n",
      "| smooth/fun            | 1.80081    |\n",
      "| smooth/success        | True       |\n",
      "| smooth/time           | 0.0579241  |\n",
      "--------------------------------------\n",
      "\u001b[32m[0622 13:00:46 @ceem.py:122]\u001b[0m Executing smoothing step\n"
     ]
    },
    {
     "name": "stderr",
     "output_type": "stream",
     "text": [
      "\n",
      "100%|██████████| 1/1 [00:00<00:00, 18.23it/s]"
     ]
    },
    {
     "name": "stdout",
     "output_type": "stream",
     "text": [
      "\u001b[32m[0622 13:00:46 @ceem.py:125]\u001b[0m Executing learning step\n",
      "--------------------------------------\n",
      "| learn/end_feval       | 0.77911    |\n",
      "| learn/end_gradnorm    | 13.7383    |\n",
      "| learn/net_update_norm | 0.00348587 |\n",
      "| learn/start_feval     | 0.779275   |\n",
      "| learn/start_gradnorm  | 13.7385    |\n",
      "| learn/time            | 0.0367898  |\n",
      "| smooth/fun            | 1.80045    |\n",
      "| smooth/success        | True       |\n",
      "| smooth/time           | 0.0545463  |\n",
      "--------------------------------------\n",
      "\u001b[32m[0622 13:00:46 @ceem.py:122]\u001b[0m Executing smoothing step\n"
     ]
    },
    {
     "name": "stderr",
     "output_type": "stream",
     "text": [
      "\n",
      "100%|██████████| 1/1 [00:00<00:00, 18.18it/s]"
     ]
    },
    {
     "name": "stdout",
     "output_type": "stream",
     "text": [
      "\u001b[32m[0622 13:00:46 @ceem.py:125]\u001b[0m Executing learning step\n",
      "--------------------------------------\n",
      "| learn/end_feval       | 0.778638   |\n",
      "| learn/end_gradnorm    | 13.8228    |\n",
      "| learn/net_update_norm | 0.00331949 |\n",
      "| learn/start_feval     | 0.77879    |\n",
      "| learn/start_gradnorm  | 13.8222    |\n",
      "| learn/time            | 0.03723    |\n",
      "| smooth/fun            | 1.80012    |\n",
      "| smooth/success        | True       |\n",
      "| smooth/time           | 0.0546874  |\n",
      "--------------------------------------\n",
      "\u001b[32m[0622 13:00:46 @ceem.py:122]\u001b[0m Executing smoothing step\n"
     ]
    },
    {
     "name": "stderr",
     "output_type": "stream",
     "text": [
      "\n",
      "100%|██████████| 1/1 [00:00<00:00, 18.53it/s]"
     ]
    },
    {
     "name": "stdout",
     "output_type": "stream",
     "text": [
      "\u001b[32m[0622 13:00:46 @ceem.py:125]\u001b[0m Executing learning step\n",
      "--------------------------------------\n",
      "| learn/end_feval       | 0.778243   |\n",
      "| learn/end_gradnorm    | 13.9027    |\n",
      "| learn/net_update_norm | 0.00323146 |\n",
      "| learn/start_feval     | 0.778384   |\n",
      "| learn/start_gradnorm  | 13.9033    |\n",
      "| learn/time            | 0.0401757  |\n",
      "| smooth/fun            | 1.79981    |\n",
      "| smooth/success        | True       |\n",
      "| smooth/time           | 0.0536417  |\n",
      "--------------------------------------\n",
      "\u001b[32m[0622 13:00:46 @ceem.py:122]\u001b[0m Executing smoothing step\n"
     ]
    },
    {
     "name": "stderr",
     "output_type": "stream",
     "text": [
      "\n",
      "100%|██████████| 1/1 [00:00<00:00, 18.51it/s]"
     ]
    },
    {
     "name": "stdout",
     "output_type": "stream",
     "text": [
      "\u001b[32m[0622 13:00:46 @ceem.py:125]\u001b[0m Executing learning step\n",
      "-------------------------------------\n",
      "| learn/end_feval       | 0.777866  |\n",
      "| learn/end_gradnorm    | 13.9792   |\n",
      "| learn/net_update_norm | 0.0031156 |\n",
      "| learn/start_feval     | 0.777995  |\n",
      "| learn/start_gradnorm  | 13.9801   |\n",
      "| learn/time            | 0.0364699 |\n",
      "| smooth/fun            | 1.79952   |\n",
      "| smooth/success        | True      |\n",
      "| smooth/time           | 0.0536195 |\n",
      "-------------------------------------\n",
      "\u001b[32m[0622 13:00:46 @ceem.py:122]\u001b[0m Executing smoothing step\n"
     ]
    },
    {
     "name": "stderr",
     "output_type": "stream",
     "text": [
      "\n",
      "100%|██████████| 1/1 [00:00<00:00, 18.75it/s]"
     ]
    },
    {
     "name": "stdout",
     "output_type": "stream",
     "text": [
      "\u001b[32m[0622 13:00:46 @ceem.py:125]\u001b[0m Executing learning step\n",
      "--------------------------------------\n",
      "| learn/end_feval       | 0.777499   |\n",
      "| learn/end_gradnorm    | 14.0527    |\n",
      "| learn/net_update_norm | 0.00299036 |\n",
      "| learn/start_feval     | 0.777618   |\n",
      "| learn/start_gradnorm  | 14.0535    |\n",
      "| learn/time            | 0.0360394  |\n",
      "| smooth/fun            | 1.79926    |\n",
      "| smooth/success        | True       |\n",
      "| smooth/time           | 0.0530259  |\n",
      "--------------------------------------\n",
      "\u001b[32m[0622 13:00:46 @ceem.py:122]\u001b[0m Executing smoothing step\n"
     ]
    },
    {
     "name": "stderr",
     "output_type": "stream",
     "text": [
      "\n",
      "100%|██████████| 1/1 [00:00<00:00, 18.62it/s]"
     ]
    },
    {
     "name": "stdout",
     "output_type": "stream",
     "text": [
      "\u001b[32m[0622 13:00:46 @ceem.py:125]\u001b[0m Executing learning step\n"
     ]
    },
    {
     "name": "stderr",
     "output_type": "stream",
     "text": [
      "\n"
     ]
    },
    {
     "name": "stdout",
     "output_type": "stream",
     "text": [
      "--------------------------------------\n",
      "| learn/end_feval       | 0.777177   |\n",
      "| learn/end_gradnorm    | 14.1232    |\n",
      "| learn/net_update_norm | 0.00287034 |\n",
      "| learn/start_feval     | 0.777286   |\n",
      "| learn/start_gradnorm  | 14.124     |\n",
      "| learn/time            | 0.0376272  |\n",
      "| smooth/fun            | 1.79901    |\n",
      "| smooth/success        | True       |\n",
      "| smooth/time           | 0.0533789  |\n",
      "--------------------------------------\n",
      "\u001b[32m[0622 13:00:46 @ceem.py:122]\u001b[0m Executing smoothing step\n"
     ]
    },
    {
     "name": "stderr",
     "output_type": "stream",
     "text": [
      "100%|██████████| 1/1 [00:00<00:00, 18.82it/s]"
     ]
    },
    {
     "name": "stdout",
     "output_type": "stream",
     "text": [
      "\u001b[32m[0622 13:00:46 @ceem.py:125]\u001b[0m Executing learning step\n"
     ]
    },
    {
     "name": "stderr",
     "output_type": "stream",
     "text": [
      "\n"
     ]
    },
    {
     "name": "stdout",
     "output_type": "stream",
     "text": [
      "--------------------------------------\n",
      "| learn/end_feval       | 0.776871   |\n",
      "| learn/end_gradnorm    | 14.1911    |\n",
      "| learn/net_update_norm | 0.00274876 |\n",
      "| learn/start_feval     | 0.776972   |\n",
      "| learn/start_gradnorm  | 14.1918    |\n",
      "| learn/time            | 0.0381437  |\n",
      "| smooth/fun            | 1.79879    |\n",
      "| smooth/success        | True       |\n",
      "| smooth/time           | 0.0528298  |\n",
      "--------------------------------------\n",
      "\u001b[32m[0622 13:00:46 @ceem.py:122]\u001b[0m Executing smoothing step\n"
     ]
    },
    {
     "name": "stderr",
     "output_type": "stream",
     "text": [
      "100%|██████████| 1/1 [00:00<00:00, 18.37it/s]"
     ]
    },
    {
     "name": "stdout",
     "output_type": "stream",
     "text": [
      "\u001b[32m[0622 13:00:46 @ceem.py:125]\u001b[0m Executing learning step\n"
     ]
    },
    {
     "name": "stderr",
     "output_type": "stream",
     "text": [
      "\n"
     ]
    },
    {
     "name": "stdout",
     "output_type": "stream",
     "text": [
      "--------------------------------------\n",
      "| learn/end_feval       | 0.776581   |\n",
      "| learn/end_gradnorm    | 14.256     |\n",
      "| learn/net_update_norm | 0.00264833 |\n",
      "| learn/start_feval     | 0.776673   |\n",
      "| learn/start_gradnorm  | 14.2569    |\n",
      "| learn/time            | 0.0387698  |\n",
      "| smooth/fun            | 1.79858    |\n",
      "| smooth/success        | True       |\n",
      "| smooth/time           | 0.0541063  |\n",
      "--------------------------------------\n",
      "\u001b[32m[0622 13:00:46 @ceem.py:122]\u001b[0m Executing smoothing step\n"
     ]
    },
    {
     "name": "stderr",
     "output_type": "stream",
     "text": [
      "100%|██████████| 1/1 [00:00<00:00, 19.45it/s]"
     ]
    },
    {
     "name": "stdout",
     "output_type": "stream",
     "text": [
      "\u001b[32m[0622 13:00:46 @ceem.py:125]\u001b[0m Executing learning step\n"
     ]
    },
    {
     "name": "stderr",
     "output_type": "stream",
     "text": [
      "\n"
     ]
    },
    {
     "name": "stdout",
     "output_type": "stream",
     "text": [
      "--------------------------------------\n",
      "| learn/end_feval       | 0.776305   |\n",
      "| learn/end_gradnorm    | 14.3194    |\n",
      "| learn/net_update_norm | 0.00250122 |\n",
      "| learn/start_feval     | 0.77639    |\n",
      "| learn/start_gradnorm  | 14.3192    |\n",
      "| learn/time            | 0.0406857  |\n",
      "| smooth/fun            | 1.79839    |\n",
      "| smooth/success        | True       |\n",
      "| smooth/time           | 0.051141   |\n",
      "--------------------------------------\n",
      "\u001b[32m[0622 13:00:46 @ceem.py:122]\u001b[0m Executing smoothing step\n"
     ]
    },
    {
     "name": "stderr",
     "output_type": "stream",
     "text": [
      "100%|██████████| 1/1 [00:00<00:00, 18.44it/s]"
     ]
    },
    {
     "name": "stdout",
     "output_type": "stream",
     "text": [
      "\u001b[32m[0622 13:00:47 @ceem.py:125]\u001b[0m Executing learning step\n",
      "--------------------------------------\n",
      "| learn/end_feval       | 0.776066   |\n",
      "| learn/end_gradnorm    | 14.3812    |\n",
      "| learn/net_update_norm | 0.00237332 |\n",
      "| learn/start_feval     | 0.776145   |\n",
      "| learn/start_gradnorm  | 14.3801    |\n",
      "| learn/time            | 0.035637   |\n",
      "| smooth/fun            | 1.79822    |\n",
      "| smooth/success        | True       |\n",
      "| smooth/time           | 0.0539038  |\n",
      "--------------------------------------\n",
      "\u001b[32m[0622 13:00:47 @ceem.py:122]\u001b[0m Executing smoothing step\n"
     ]
    },
    {
     "name": "stderr",
     "output_type": "stream",
     "text": [
      "\n",
      "100%|██████████| 1/1 [00:00<00:00, 19.25it/s]"
     ]
    },
    {
     "name": "stdout",
     "output_type": "stream",
     "text": [
      "\u001b[32m[0622 13:00:47 @ceem.py:125]\u001b[0m Executing learning step\n",
      "--------------------------------------\n",
      "| learn/end_feval       | 0.775862   |\n",
      "| learn/end_gradnorm    | 14.439     |\n",
      "| learn/net_update_norm | 0.00234552 |\n",
      "| learn/start_feval     | 0.775935   |\n",
      "| learn/start_gradnorm  | 14.4397    |\n",
      "| learn/time            | 0.0383481  |\n",
      "| smooth/fun            | 1.79806    |\n",
      "| smooth/success        | True       |\n",
      "| smooth/time           | 0.0516577  |\n",
      "--------------------------------------\n",
      "\u001b[32m[0622 13:00:47 @ceem.py:122]\u001b[0m Executing smoothing step\n"
     ]
    },
    {
     "name": "stderr",
     "output_type": "stream",
     "text": [
      "\n",
      "100%|██████████| 1/1 [00:00<00:00, 19.42it/s]"
     ]
    },
    {
     "name": "stdout",
     "output_type": "stream",
     "text": [
      "\u001b[32m[0622 13:00:47 @ceem.py:125]\u001b[0m Executing learning step\n"
     ]
    },
    {
     "name": "stderr",
     "output_type": "stream",
     "text": [
      "\n"
     ]
    },
    {
     "name": "stdout",
     "output_type": "stream",
     "text": [
      "-------------------------------------\n",
      "| learn/end_feval       | 0.775643  |\n",
      "| learn/end_gradnorm    | 14.4959   |\n",
      "| learn/net_update_norm | 0.0021956 |\n",
      "| learn/start_feval     | 0.77571   |\n",
      "| learn/start_gradnorm  | 14.4953   |\n",
      "| learn/time            | 0.0371755 |\n",
      "| smooth/fun            | 1.79791   |\n",
      "| smooth/success        | True      |\n",
      "| smooth/time           | 0.051181  |\n",
      "-------------------------------------\n",
      "\u001b[32m[0622 13:00:47 @ceem.py:122]\u001b[0m Executing smoothing step\n"
     ]
    },
    {
     "name": "stderr",
     "output_type": "stream",
     "text": [
      "100%|██████████| 1/1 [00:00<00:00, 19.47it/s]"
     ]
    },
    {
     "name": "stdout",
     "output_type": "stream",
     "text": [
      "\u001b[32m[0622 13:00:47 @ceem.py:125]\u001b[0m Executing learning step\n"
     ]
    },
    {
     "name": "stderr",
     "output_type": "stream",
     "text": [
      "\n"
     ]
    },
    {
     "name": "stdout",
     "output_type": "stream",
     "text": [
      "--------------------------------------\n",
      "| learn/end_feval       | 0.77542    |\n",
      "| learn/end_gradnorm    | 14.5504    |\n",
      "| learn/net_update_norm | 0.00212101 |\n",
      "| learn/start_feval     | 0.775482   |\n",
      "| learn/start_gradnorm  | 14.55      |\n",
      "| learn/time            | 0.0423837  |\n",
      "| smooth/fun            | 1.79777    |\n",
      "| smooth/success        | True       |\n",
      "| smooth/time           | 0.0510492  |\n",
      "--------------------------------------\n",
      "\u001b[32m[0622 13:00:47 @ceem.py:122]\u001b[0m Executing smoothing step\n"
     ]
    },
    {
     "name": "stderr",
     "output_type": "stream",
     "text": [
      "100%|██████████| 1/1 [00:00<00:00, 19.43it/s]"
     ]
    },
    {
     "name": "stdout",
     "output_type": "stream",
     "text": [
      "\u001b[32m[0622 13:00:47 @ceem.py:125]\u001b[0m Executing learning step\n"
     ]
    },
    {
     "name": "stderr",
     "output_type": "stream",
     "text": [
      "\n"
     ]
    },
    {
     "name": "stdout",
     "output_type": "stream",
     "text": [
      "--------------------------------------\n",
      "| learn/end_feval       | 0.775229   |\n",
      "| learn/end_gradnorm    | 14.6017    |\n",
      "| learn/net_update_norm | 0.00207963 |\n",
      "| learn/start_feval     | 0.775286   |\n",
      "| learn/start_gradnorm  | 14.6023    |\n",
      "| learn/time            | 0.0378     |\n",
      "| smooth/fun            | 1.79764    |\n",
      "| smooth/success        | True       |\n",
      "| smooth/time           | 0.0512129  |\n",
      "--------------------------------------\n",
      "\u001b[32m[0622 13:00:47 @ceem.py:122]\u001b[0m Executing smoothing step\n"
     ]
    },
    {
     "name": "stderr",
     "output_type": "stream",
     "text": [
      "100%|██████████| 1/1 [00:00<00:00, 19.64it/s]"
     ]
    },
    {
     "name": "stdout",
     "output_type": "stream",
     "text": [
      "\u001b[32m[0622 13:00:47 @ceem.py:125]\u001b[0m Executing learning step\n",
      "--------------------------------------\n",
      "| learn/end_feval       | 0.77506    |\n",
      "| learn/end_gradnorm    | 14.6516    |\n",
      "| learn/net_update_norm | 0.00196913 |\n",
      "| learn/start_feval     | 0.775113   |\n",
      "| learn/start_gradnorm  | 14.6516    |\n",
      "| learn/time            | 0.0370251  |\n",
      "| smooth/fun            | 1.79753    |\n",
      "| smooth/success        | True       |\n",
      "| smooth/time           | 0.0503014  |\n",
      "--------------------------------------\n",
      "\u001b[32m[0622 13:00:47 @ceem.py:122]\u001b[0m Executing smoothing step\n"
     ]
    },
    {
     "name": "stderr",
     "output_type": "stream",
     "text": [
      "\n",
      "100%|██████████| 1/1 [00:00<00:00, 19.87it/s]"
     ]
    },
    {
     "name": "stdout",
     "output_type": "stream",
     "text": [
      "\u001b[32m[0622 13:00:47 @ceem.py:125]\u001b[0m Executing learning step\n"
     ]
    },
    {
     "name": "stderr",
     "output_type": "stream",
     "text": [
      "\n"
     ]
    },
    {
     "name": "stdout",
     "output_type": "stream",
     "text": [
      "--------------------------------------\n",
      "| learn/end_feval       | 0.774898   |\n",
      "| learn/end_gradnorm    | 14.6986    |\n",
      "| learn/net_update_norm | 0.00193809 |\n",
      "| learn/start_feval     | 0.774947   |\n",
      "| learn/start_gradnorm  | 14.6996    |\n",
      "| learn/time            | 0.0355131  |\n",
      "| smooth/fun            | 1.79742    |\n",
      "| smooth/success        | True       |\n",
      "| smooth/time           | 0.0499821  |\n",
      "--------------------------------------\n",
      "\u001b[32m[0622 13:00:47 @ceem.py:122]\u001b[0m Executing smoothing step\n"
     ]
    },
    {
     "name": "stderr",
     "output_type": "stream",
     "text": [
      "100%|██████████| 1/1 [00:00<00:00, 20.17it/s]"
     ]
    },
    {
     "name": "stdout",
     "output_type": "stream",
     "text": [
      "\u001b[32m[0622 13:00:47 @ceem.py:125]\u001b[0m Executing learning step\n"
     ]
    },
    {
     "name": "stderr",
     "output_type": "stream",
     "text": [
      "\n"
     ]
    },
    {
     "name": "stdout",
     "output_type": "stream",
     "text": [
      "--------------------------------------\n",
      "| learn/end_feval       | 0.774742   |\n",
      "| learn/end_gradnorm    | 14.7448    |\n",
      "| learn/net_update_norm | 0.00181801 |\n",
      "| learn/start_feval     | 0.774787   |\n",
      "| learn/start_gradnorm  | 14.7447    |\n",
      "| learn/time            | 0.0382941  |\n",
      "| smooth/fun            | 1.79731    |\n",
      "| smooth/success        | True       |\n",
      "| smooth/time           | 0.0492668  |\n",
      "--------------------------------------\n",
      "\u001b[32m[0622 13:00:47 @ceem.py:122]\u001b[0m Executing smoothing step\n"
     ]
    },
    {
     "name": "stderr",
     "output_type": "stream",
     "text": [
      "100%|██████████| 1/1 [00:00<00:00, 19.82it/s]"
     ]
    },
    {
     "name": "stdout",
     "output_type": "stream",
     "text": [
      "\u001b[32m[0622 13:00:47 @ceem.py:125]\u001b[0m Executing learning step\n"
     ]
    },
    {
     "name": "stderr",
     "output_type": "stream",
     "text": [
      "\n"
     ]
    },
    {
     "name": "stdout",
     "output_type": "stream",
     "text": [
      "--------------------------------------\n",
      "| learn/end_feval       | 0.77459    |\n",
      "| learn/end_gradnorm    | 14.7899    |\n",
      "| learn/net_update_norm | 0.00172602 |\n",
      "| learn/start_feval     | 0.774632   |\n",
      "| learn/start_gradnorm  | 14.7891    |\n",
      "| learn/time            | 0.0393884  |\n",
      "| smooth/fun            | 1.79722    |\n",
      "| smooth/success        | True       |\n",
      "| smooth/time           | 0.0501495  |\n",
      "--------------------------------------\n",
      "\u001b[32m[0622 13:00:47 @ceem.py:122]\u001b[0m Executing smoothing step\n"
     ]
    },
    {
     "name": "stderr",
     "output_type": "stream",
     "text": [
      "100%|██████████| 1/1 [00:00<00:00, 20.07it/s]"
     ]
    },
    {
     "name": "stdout",
     "output_type": "stream",
     "text": [
      "\u001b[32m[0622 13:00:47 @ceem.py:125]\u001b[0m Executing learning step\n"
     ]
    },
    {
     "name": "stderr",
     "output_type": "stream",
     "text": [
      "\n"
     ]
    },
    {
     "name": "stdout",
     "output_type": "stream",
     "text": [
      "--------------------------------------\n",
      "| learn/end_feval       | 0.774469   |\n",
      "| learn/end_gradnorm    | 14.8319    |\n",
      "| learn/net_update_norm | 0.00171056 |\n",
      "| learn/start_feval     | 0.774508   |\n",
      "| learn/start_gradnorm  | 14.8325    |\n",
      "| learn/time            | 0.0404738  |\n",
      "| smooth/fun            | 1.79714    |\n",
      "| smooth/success        | True       |\n",
      "| smooth/time           | 0.049261   |\n",
      "--------------------------------------\n",
      "\u001b[32m[0622 13:00:47 @ceem.py:122]\u001b[0m Executing smoothing step\n"
     ]
    },
    {
     "name": "stderr",
     "output_type": "stream",
     "text": [
      "100%|██████████| 1/1 [00:00<00:00, 20.20it/s]"
     ]
    },
    {
     "name": "stdout",
     "output_type": "stream",
     "text": [
      "\u001b[32m[0622 13:00:48 @ceem.py:125]\u001b[0m Executing learning step\n"
     ]
    },
    {
     "name": "stderr",
     "output_type": "stream",
     "text": [
      "\n"
     ]
    },
    {
     "name": "stdout",
     "output_type": "stream",
     "text": [
      "--------------------------------------\n",
      "| learn/end_feval       | 0.77435    |\n",
      "| learn/end_gradnorm    | 14.8732    |\n",
      "| learn/net_update_norm | 0.00161669 |\n",
      "| learn/start_feval     | 0.774386   |\n",
      "| learn/start_gradnorm  | 14.873     |\n",
      "| learn/time            | 0.0392592  |\n",
      "| smooth/fun            | 1.79706    |\n",
      "| smooth/success        | True       |\n",
      "| smooth/time           | 0.0492055  |\n",
      "--------------------------------------\n",
      "\u001b[32m[0622 13:00:48 @ceem.py:122]\u001b[0m Executing smoothing step\n"
     ]
    },
    {
     "name": "stderr",
     "output_type": "stream",
     "text": [
      "100%|██████████| 1/1 [00:00<00:00, 20.54it/s]"
     ]
    },
    {
     "name": "stdout",
     "output_type": "stream",
     "text": [
      "\u001b[32m[0622 13:00:48 @ceem.py:125]\u001b[0m Executing learning step\n"
     ]
    },
    {
     "name": "stderr",
     "output_type": "stream",
     "text": [
      "\n"
     ]
    },
    {
     "name": "stdout",
     "output_type": "stream",
     "text": [
      "--------------------------------------\n",
      "| learn/end_feval       | 0.77424    |\n",
      "| learn/end_gradnorm    | 14.914     |\n",
      "| learn/net_update_norm | 0.00151312 |\n",
      "| learn/start_feval     | 0.774273   |\n",
      "| learn/start_gradnorm  | 14.9127    |\n",
      "| learn/time            | 0.0381772  |\n",
      "| smooth/fun            | 1.79698    |\n",
      "| smooth/success        | True       |\n",
      "| smooth/time           | 0.0483561  |\n",
      "--------------------------------------\n",
      "\u001b[32m[0622 13:00:48 @ceem.py:122]\u001b[0m Executing smoothing step\n"
     ]
    },
    {
     "name": "stderr",
     "output_type": "stream",
     "text": [
      "100%|██████████| 1/1 [00:00<00:00, 21.03it/s]"
     ]
    },
    {
     "name": "stdout",
     "output_type": "stream",
     "text": [
      "\u001b[32m[0622 13:00:48 @ceem.py:125]\u001b[0m Executing learning step\n"
     ]
    },
    {
     "name": "stderr",
     "output_type": "stream",
     "text": [
      "\n"
     ]
    },
    {
     "name": "stdout",
     "output_type": "stream",
     "text": [
      "--------------------------------------\n",
      "| learn/end_feval       | 0.774143   |\n",
      "| learn/end_gradnorm    | 14.9524    |\n",
      "| learn/net_update_norm | 0.00148832 |\n",
      "| learn/start_feval     | 0.774174   |\n",
      "| learn/start_gradnorm  | 14.9521    |\n",
      "| learn/time            | 0.0417872  |\n",
      "| smooth/fun            | 1.79692    |\n",
      "| smooth/success        | True       |\n",
      "| smooth/time           | 0.0472466  |\n",
      "--------------------------------------\n",
      "\u001b[32m[0622 13:00:48 @ceem.py:122]\u001b[0m Executing smoothing step\n"
     ]
    },
    {
     "name": "stderr",
     "output_type": "stream",
     "text": [
      "100%|██████████| 1/1 [00:00<00:00, 21.33it/s]"
     ]
    },
    {
     "name": "stdout",
     "output_type": "stream",
     "text": [
      "\u001b[32m[0622 13:00:48 @ceem.py:125]\u001b[0m Executing learning step\n"
     ]
    },
    {
     "name": "stderr",
     "output_type": "stream",
     "text": [
      "\n"
     ]
    },
    {
     "name": "stdout",
     "output_type": "stream",
     "text": [
      "--------------------------------------\n",
      "| learn/end_feval       | 0.77402    |\n",
      "| learn/end_gradnorm    | 14.9893    |\n",
      "| learn/net_update_norm | 0.00143889 |\n",
      "| learn/start_feval     | 0.774049   |\n",
      "| learn/start_gradnorm  | 14.989     |\n",
      "| learn/time            | 0.0381634  |\n",
      "| smooth/fun            | 1.79685    |\n",
      "| smooth/success        | True       |\n",
      "| smooth/time           | 0.0465927  |\n",
      "--------------------------------------\n",
      "\u001b[32m[0622 13:00:48 @ceem.py:122]\u001b[0m Executing smoothing step\n"
     ]
    },
    {
     "name": "stderr",
     "output_type": "stream",
     "text": [
      "100%|██████████| 1/1 [00:00<00:00, 20.92it/s]"
     ]
    },
    {
     "name": "stdout",
     "output_type": "stream",
     "text": [
      "\u001b[32m[0622 13:00:48 @ceem.py:125]\u001b[0m Executing learning step\n"
     ]
    },
    {
     "name": "stderr",
     "output_type": "stream",
     "text": [
      "\n"
     ]
    },
    {
     "name": "stdout",
     "output_type": "stream",
     "text": [
      "--------------------------------------\n",
      "| learn/end_feval       | 0.773929   |\n",
      "| learn/end_gradnorm    | 15.0242    |\n",
      "| learn/net_update_norm | 0.00139458 |\n",
      "| learn/start_feval     | 0.773955   |\n",
      "| learn/start_gradnorm  | 15.0245    |\n",
      "| learn/time            | 0.0373314  |\n",
      "| smooth/fun            | 1.7968     |\n",
      "| smooth/success        | True       |\n",
      "| smooth/time           | 0.0474869  |\n",
      "--------------------------------------\n",
      "\u001b[32m[0622 13:00:48 @ceem.py:122]\u001b[0m Executing smoothing step\n"
     ]
    },
    {
     "name": "stderr",
     "output_type": "stream",
     "text": [
      "100%|██████████| 1/1 [00:00<00:00, 21.50it/s]"
     ]
    },
    {
     "name": "stdout",
     "output_type": "stream",
     "text": [
      "\u001b[32m[0622 13:00:48 @ceem.py:125]\u001b[0m Executing learning step\n"
     ]
    },
    {
     "name": "stderr",
     "output_type": "stream",
     "text": [
      "\n"
     ]
    },
    {
     "name": "stdout",
     "output_type": "stream",
     "text": [
      "--------------------------------------\n",
      "| learn/end_feval       | 0.773814   |\n",
      "| learn/end_gradnorm    | 15.0589    |\n",
      "| learn/net_update_norm | 0.00130335 |\n",
      "| learn/start_feval     | 0.773838   |\n",
      "| learn/start_gradnorm  | 15.0581    |\n",
      "| learn/time            | 0.046565   |\n",
      "| smooth/fun            | 1.79674    |\n",
      "| smooth/success        | True       |\n",
      "| smooth/time           | 0.0461784  |\n",
      "--------------------------------------\n",
      "\u001b[32m[0622 13:00:48 @ceem.py:122]\u001b[0m Executing smoothing step\n"
     ]
    },
    {
     "name": "stderr",
     "output_type": "stream",
     "text": [
      "100%|██████████| 1/1 [00:00<00:00, 21.46it/s]"
     ]
    },
    {
     "name": "stdout",
     "output_type": "stream",
     "text": [
      "\u001b[32m[0622 13:00:48 @ceem.py:125]\u001b[0m Executing learning step\n"
     ]
    },
    {
     "name": "stderr",
     "output_type": "stream",
     "text": [
      "\n"
     ]
    },
    {
     "name": "stdout",
     "output_type": "stream",
     "text": [
      "--------------------------------------\n",
      "| learn/end_feval       | 0.773744   |\n",
      "| learn/end_gradnorm    | 15.0918    |\n",
      "| learn/net_update_norm | 0.00126741 |\n",
      "| learn/start_feval     | 0.773766   |\n",
      "| learn/start_gradnorm  | 15.0915    |\n",
      "| learn/time            | 0.0358439  |\n",
      "| smooth/fun            | 1.79669    |\n",
      "| smooth/success        | True       |\n",
      "| smooth/time           | 0.0462506  |\n",
      "--------------------------------------\n",
      "\u001b[32m[0622 13:00:48 @ceem.py:122]\u001b[0m Executing smoothing step\n"
     ]
    },
    {
     "name": "stderr",
     "output_type": "stream",
     "text": [
      "100%|██████████| 1/1 [00:00<00:00, 22.76it/s]"
     ]
    },
    {
     "name": "stdout",
     "output_type": "stream",
     "text": [
      "\u001b[32m[0622 13:00:48 @ceem.py:125]\u001b[0m Executing learning step\n"
     ]
    },
    {
     "name": "stderr",
     "output_type": "stream",
     "text": [
      "\n"
     ]
    },
    {
     "name": "stdout",
     "output_type": "stream",
     "text": [
      "-------------------------------------\n",
      "| learn/end_feval       | 0.773634  |\n",
      "| learn/end_gradnorm    | 15.1232   |\n",
      "| learn/net_update_norm | 0.0012295 |\n",
      "| learn/start_feval     | 0.773655  |\n",
      "| learn/start_gradnorm  | 15.1231   |\n",
      "| learn/time            | 0.0386764 |\n",
      "| smooth/fun            | 1.79665   |\n",
      "| smooth/success        | True      |\n",
      "| smooth/time           | 0.0436369 |\n",
      "-------------------------------------\n",
      "\u001b[32m[0622 13:00:48 @ceem.py:122]\u001b[0m Executing smoothing step\n"
     ]
    },
    {
     "name": "stderr",
     "output_type": "stream",
     "text": [
      "100%|██████████| 1/1 [00:00<00:00, 21.99it/s]"
     ]
    },
    {
     "name": "stdout",
     "output_type": "stream",
     "text": [
      "\u001b[32m[0622 13:00:48 @ceem.py:125]\u001b[0m Executing learning step\n"
     ]
    },
    {
     "name": "stderr",
     "output_type": "stream",
     "text": [
      "\n"
     ]
    },
    {
     "name": "stdout",
     "output_type": "stream",
     "text": [
      "--------------------------------------\n",
      "| learn/end_feval       | 0.773556   |\n",
      "| learn/end_gradnorm    | 15.1533    |\n",
      "| learn/net_update_norm | 0.00118143 |\n",
      "| learn/start_feval     | 0.773576   |\n",
      "| learn/start_gradnorm  | 15.1532    |\n",
      "| learn/time            | 0.036328   |\n",
      "| smooth/fun            | 1.7966     |\n",
      "| smooth/success        | True       |\n",
      "| smooth/time           | 0.0451493  |\n",
      "--------------------------------------\n",
      "\u001b[32m[0622 13:00:48 @ceem.py:122]\u001b[0m Executing smoothing step\n"
     ]
    },
    {
     "name": "stderr",
     "output_type": "stream",
     "text": [
      "100%|██████████| 1/1 [00:00<00:00, 21.66it/s]"
     ]
    },
    {
     "name": "stdout",
     "output_type": "stream",
     "text": [
      "\u001b[32m[0622 13:00:48 @ceem.py:125]\u001b[0m Executing learning step\n"
     ]
    },
    {
     "name": "stderr",
     "output_type": "stream",
     "text": [
      "\n"
     ]
    },
    {
     "name": "stdout",
     "output_type": "stream",
     "text": [
      "--------------------------------------\n",
      "| learn/end_feval       | 0.77348    |\n",
      "| learn/end_gradnorm    | 15.1823    |\n",
      "| learn/net_update_norm | 0.00113911 |\n",
      "| learn/start_feval     | 0.773498   |\n",
      "| learn/start_gradnorm  | 15.1822    |\n",
      "| learn/time            | 0.0368849  |\n",
      "| smooth/fun            | 1.79657    |\n",
      "| smooth/success        | True       |\n",
      "| smooth/time           | 0.0458664  |\n",
      "--------------------------------------\n",
      "\u001b[32m[0622 13:00:48 @ceem.py:122]\u001b[0m Executing smoothing step\n"
     ]
    },
    {
     "name": "stderr",
     "output_type": "stream",
     "text": [
      "100%|██████████| 1/1 [00:00<00:00, 35.22it/s]"
     ]
    },
    {
     "name": "stdout",
     "output_type": "stream",
     "text": [
      "\u001b[32m[0622 13:00:48 @ceem.py:125]\u001b[0m Executing learning step\n"
     ]
    },
    {
     "name": "stderr",
     "output_type": "stream",
     "text": [
      "\n"
     ]
    },
    {
     "name": "stdout",
     "output_type": "stream",
     "text": [
      "--------------------------------------\n",
      "| learn/end_feval       | 0.773462   |\n",
      "| learn/end_gradnorm    | 15.2116    |\n",
      "| learn/net_update_norm | 0.00108661 |\n",
      "| learn/start_feval     | 0.773479   |\n",
      "| learn/start_gradnorm  | 15.2107    |\n",
      "| learn/time            | 0.0367143  |\n",
      "| smooth/fun            | 1.79653    |\n",
      "| smooth/success        | True       |\n",
      "| smooth/time           | 0.0280835  |\n",
      "--------------------------------------\n",
      "\u001b[32m[0622 13:00:48 @ceem.py:122]\u001b[0m Executing smoothing step\n"
     ]
    },
    {
     "name": "stderr",
     "output_type": "stream",
     "text": [
      "100%|██████████| 1/1 [00:00<00:00, 31.90it/s]"
     ]
    },
    {
     "name": "stdout",
     "output_type": "stream",
     "text": [
      "\u001b[32m[0622 13:00:49 @ceem.py:125]\u001b[0m Executing learning step\n"
     ]
    },
    {
     "name": "stderr",
     "output_type": "stream",
     "text": [
      "\n"
     ]
    },
    {
     "name": "stdout",
     "output_type": "stream",
     "text": [
      "--------------------------------------\n",
      "| learn/end_feval       | 0.77335    |\n",
      "| learn/end_gradnorm    | 15.239     |\n",
      "| learn/net_update_norm | 0.00108646 |\n",
      "| learn/start_feval     | 0.773366   |\n",
      "| learn/start_gradnorm  | 15.239     |\n",
      "| learn/time            | 0.0381562  |\n",
      "| smooth/fun            | 1.7965     |\n",
      "| smooth/success        | True       |\n",
      "| smooth/time           | 0.0310789  |\n",
      "--------------------------------------\n",
      "\u001b[32m[0622 13:00:49 @ceem.py:122]\u001b[0m Executing smoothing step\n"
     ]
    },
    {
     "name": "stderr",
     "output_type": "stream",
     "text": [
      "100%|██████████| 1/1 [00:00<00:00, 31.15it/s]"
     ]
    },
    {
     "name": "stdout",
     "output_type": "stream",
     "text": [
      "\u001b[32m[0622 13:00:49 @ceem.py:125]\u001b[0m Executing learning step\n"
     ]
    },
    {
     "name": "stderr",
     "output_type": "stream",
     "text": [
      "\n"
     ]
    },
    {
     "name": "stdout",
     "output_type": "stream",
     "text": [
      "-------------------------------------\n",
      "| learn/end_feval       | 0.773271  |\n",
      "| learn/end_gradnorm    | 15.2655   |\n",
      "| learn/net_update_norm | 0.0010485 |\n",
      "| learn/start_feval     | 0.773286  |\n",
      "| learn/start_gradnorm  | 15.2655   |\n",
      "| learn/time            | 0.0393031 |\n",
      "| smooth/fun            | 1.79646   |\n",
      "| smooth/success        | True      |\n",
      "| smooth/time           | 0.0317607 |\n",
      "-------------------------------------\n",
      "\u001b[32m[0622 13:00:49 @ceem.py:122]\u001b[0m Executing smoothing step\n"
     ]
    },
    {
     "name": "stderr",
     "output_type": "stream",
     "text": [
      "100%|██████████| 1/1 [00:00<00:00, 31.23it/s]"
     ]
    },
    {
     "name": "stdout",
     "output_type": "stream",
     "text": [
      "\u001b[32m[0622 13:00:49 @ceem.py:125]\u001b[0m Executing learning step\n"
     ]
    },
    {
     "name": "stderr",
     "output_type": "stream",
     "text": [
      "\n"
     ]
    },
    {
     "name": "stdout",
     "output_type": "stream",
     "text": [
      "--------------------------------------\n",
      "| learn/end_feval       | 0.773197   |\n",
      "| learn/end_gradnorm    | 15.2901    |\n",
      "| learn/net_update_norm | 0.00103771 |\n",
      "| learn/start_feval     | 0.77321    |\n",
      "| learn/start_gradnorm  | 15.2909    |\n",
      "| learn/time            | 0.0371497  |\n",
      "| smooth/fun            | 1.79643    |\n",
      "| smooth/success        | True       |\n",
      "| smooth/time           | 0.0317292  |\n",
      "--------------------------------------\n",
      "\u001b[32m[0622 13:00:49 @ceem.py:122]\u001b[0m Executing smoothing step\n"
     ]
    },
    {
     "name": "stderr",
     "output_type": "stream",
     "text": [
      "100%|██████████| 1/1 [00:00<00:00, 30.84it/s]"
     ]
    },
    {
     "name": "stdout",
     "output_type": "stream",
     "text": [
      "\u001b[32m[0622 13:00:49 @ceem.py:125]\u001b[0m Executing learning step\n"
     ]
    },
    {
     "name": "stderr",
     "output_type": "stream",
     "text": [
      "\n"
     ]
    },
    {
     "name": "stdout",
     "output_type": "stream",
     "text": [
      "---------------------------------------\n",
      "| learn/end_feval       | 0.773112    |\n",
      "| learn/end_gradnorm    | 15.3154     |\n",
      "| learn/net_update_norm | 0.000922262 |\n",
      "| learn/start_feval     | 0.773125    |\n",
      "| learn/start_gradnorm  | 15.3145     |\n",
      "| learn/time            | 0.0397823   |\n",
      "| smooth/fun            | 1.7964      |\n",
      "| smooth/success        | True        |\n",
      "| smooth/time           | 0.0320942   |\n",
      "---------------------------------------\n",
      "\u001b[32m[0622 13:00:49 @ceem.py:122]\u001b[0m Executing smoothing step\n"
     ]
    },
    {
     "name": "stderr",
     "output_type": "stream",
     "text": [
      "100%|██████████| 1/1 [00:00<00:00, 31.26it/s]"
     ]
    },
    {
     "name": "stdout",
     "output_type": "stream",
     "text": [
      "\u001b[32m[0622 13:00:49 @ceem.py:125]\u001b[0m Executing learning step\n"
     ]
    },
    {
     "name": "stderr",
     "output_type": "stream",
     "text": [
      "\n"
     ]
    },
    {
     "name": "stdout",
     "output_type": "stream",
     "text": [
      "---------------------------------------\n",
      "| learn/end_feval       | 0.773041    |\n",
      "| learn/end_gradnorm    | 15.3383     |\n",
      "| learn/net_update_norm | 0.000945729 |\n",
      "| learn/start_feval     | 0.773053    |\n",
      "| learn/start_gradnorm  | 15.3389     |\n",
      "| learn/time            | 0.0444453   |\n",
      "| smooth/fun            | 1.79638     |\n",
      "| smooth/success        | True        |\n",
      "| smooth/time           | 0.0316769   |\n",
      "---------------------------------------\n",
      "\u001b[32m[0622 13:00:49 @ceem.py:122]\u001b[0m Executing smoothing step\n"
     ]
    },
    {
     "name": "stderr",
     "output_type": "stream",
     "text": [
      "100%|██████████| 1/1 [00:00<00:00, 24.76it/s]"
     ]
    },
    {
     "name": "stdout",
     "output_type": "stream",
     "text": [
      "\u001b[32m[0622 13:00:49 @ceem.py:125]\u001b[0m Executing learning step\n"
     ]
    },
    {
     "name": "stderr",
     "output_type": "stream",
     "text": [
      "\n"
     ]
    },
    {
     "name": "stdout",
     "output_type": "stream",
     "text": [
      "---------------------------------------\n",
      "| learn/end_feval       | 0.772951    |\n",
      "| learn/end_gradnorm    | 15.3613     |\n",
      "| learn/net_update_norm | 0.000846693 |\n",
      "| learn/start_feval     | 0.772961    |\n",
      "| learn/start_gradnorm  | 15.3605     |\n",
      "| learn/time            | 0.0506843   |\n",
      "| smooth/fun            | 1.79636     |\n",
      "| smooth/success        | True        |\n",
      "| smooth/time           | 0.0395292   |\n",
      "---------------------------------------\n",
      "\u001b[32m[0622 13:00:49 @ceem.py:122]\u001b[0m Executing smoothing step\n"
     ]
    },
    {
     "name": "stderr",
     "output_type": "stream",
     "text": [
      "100%|██████████| 1/1 [00:00<00:00, 22.86it/s]"
     ]
    },
    {
     "name": "stdout",
     "output_type": "stream",
     "text": [
      "\u001b[32m[0622 13:00:49 @ceem.py:125]\u001b[0m Executing learning step\n"
     ]
    },
    {
     "name": "stderr",
     "output_type": "stream",
     "text": [
      "\n"
     ]
    },
    {
     "name": "stdout",
     "output_type": "stream",
     "text": [
      "---------------------------------------\n",
      "| learn/end_feval       | 0.772924    |\n",
      "| learn/end_gradnorm    | 15.382      |\n",
      "| learn/net_update_norm | 0.000890352 |\n",
      "| learn/start_feval     | 0.772934    |\n",
      "| learn/start_gradnorm  | 15.3829     |\n",
      "| learn/time            | 0.0491897   |\n",
      "| smooth/fun            | 1.79633     |\n",
      "| smooth/success        | True        |\n",
      "| smooth/time           | 0.043393    |\n",
      "---------------------------------------\n",
      "\u001b[32m[0622 13:00:49 @ceem.py:122]\u001b[0m Executing smoothing step\n"
     ]
    },
    {
     "name": "stderr",
     "output_type": "stream",
     "text": [
      "100%|██████████| 1/1 [00:00<00:00, 23.03it/s]"
     ]
    },
    {
     "name": "stdout",
     "output_type": "stream",
     "text": [
      "\u001b[32m[0622 13:00:49 @ceem.py:125]\u001b[0m Executing learning step\n"
     ]
    },
    {
     "name": "stderr",
     "output_type": "stream",
     "text": [
      "\n"
     ]
    },
    {
     "name": "stdout",
     "output_type": "stream",
     "text": [
      "---------------------------------------\n",
      "| learn/end_feval       | 0.772894    |\n",
      "| learn/end_gradnorm    | 15.4023     |\n",
      "| learn/net_update_norm | 0.000842851 |\n",
      "| learn/start_feval     | 0.772903    |\n",
      "| learn/start_gradnorm  | 15.4029     |\n",
      "| learn/time            | 0.0523866   |\n",
      "| smooth/fun            | 1.79631     |\n",
      "| smooth/success        | True        |\n",
      "| smooth/time           | 0.0430065   |\n",
      "---------------------------------------\n",
      "\u001b[32m[0622 13:00:49 @ceem.py:122]\u001b[0m Executing smoothing step\n"
     ]
    },
    {
     "name": "stderr",
     "output_type": "stream",
     "text": [
      "100%|██████████| 1/1 [00:00<00:00, 26.96it/s]"
     ]
    },
    {
     "name": "stdout",
     "output_type": "stream",
     "text": [
      "\u001b[32m[0622 13:00:49 @ceem.py:125]\u001b[0m Executing learning step\n",
      "---------------------------------------\n",
      "| learn/end_feval       | 0.772852    |\n",
      "| learn/end_gradnorm    | 15.4232     |\n",
      "| learn/net_update_norm | 0.000753873 |\n",
      "| learn/start_feval     | 0.772861    |\n",
      "| learn/start_gradnorm  | 15.4223     |\n",
      "| learn/time            | 0.0436851   |\n",
      "| smooth/fun            | 1.79629     |\n",
      "| smooth/success        | True        |\n",
      "| smooth/time           | 0.0367901   |\n",
      "---------------------------------------\n",
      "\u001b[32m[0622 13:00:49 @ceem.py:122]\u001b[0m Executing smoothing step\n"
     ]
    },
    {
     "name": "stderr",
     "output_type": "stream",
     "text": [
      "\n",
      "100%|██████████| 1/1 [00:00<00:00, 30.57it/s]"
     ]
    },
    {
     "name": "stdout",
     "output_type": "stream",
     "text": [
      "\u001b[32m[0622 13:00:49 @ceem.py:125]\u001b[0m Executing learning step\n"
     ]
    },
    {
     "name": "stderr",
     "output_type": "stream",
     "text": [
      "\n"
     ]
    },
    {
     "name": "stdout",
     "output_type": "stream",
     "text": [
      "---------------------------------------\n",
      "| learn/end_feval       | 0.772813    |\n",
      "| learn/end_gradnorm    | 15.4422     |\n",
      "| learn/net_update_norm | 0.000767676 |\n",
      "| learn/start_feval     | 0.772821    |\n",
      "| learn/start_gradnorm  | 15.4425     |\n",
      "| learn/time            | 0.0409309   |\n",
      "| smooth/fun            | 1.79628     |\n",
      "| smooth/success        | True        |\n",
      "| smooth/time           | 0.0323567   |\n",
      "---------------------------------------\n",
      "\u001b[32m[0622 13:00:49 @ceem.py:122]\u001b[0m Executing smoothing step\n"
     ]
    },
    {
     "name": "stderr",
     "output_type": "stream",
     "text": [
      "100%|██████████| 1/1 [00:00<00:00, 29.89it/s]"
     ]
    },
    {
     "name": "stdout",
     "output_type": "stream",
     "text": [
      "\u001b[32m[0622 13:00:49 @ceem.py:125]\u001b[0m Executing learning step\n"
     ]
    },
    {
     "name": "stderr",
     "output_type": "stream",
     "text": [
      "\n"
     ]
    },
    {
     "name": "stdout",
     "output_type": "stream",
     "text": [
      "--------------------------------------\n",
      "| learn/end_feval       | 0.772754   |\n",
      "| learn/end_gradnorm    | 15.4612    |\n",
      "| learn/net_update_norm | 0.00069933 |\n",
      "| learn/start_feval     | 0.772761   |\n",
      "| learn/start_gradnorm  | 15.4605    |\n",
      "| learn/time            | 0.0546382  |\n",
      "| smooth/fun            | 1.79626    |\n",
      "| smooth/success        | True       |\n",
      "| smooth/time           | 0.033057   |\n",
      "--------------------------------------\n",
      "\u001b[32m[0622 13:00:49 @ceem.py:122]\u001b[0m Executing smoothing step\n"
     ]
    },
    {
     "name": "stderr",
     "output_type": "stream",
     "text": [
      "100%|██████████| 1/1 [00:00<00:00, 22.14it/s]"
     ]
    },
    {
     "name": "stdout",
     "output_type": "stream",
     "text": [
      "\u001b[32m[0622 13:00:50 @ceem.py:125]\u001b[0m Executing learning step\n"
     ]
    },
    {
     "name": "stderr",
     "output_type": "stream",
     "text": [
      "\n"
     ]
    },
    {
     "name": "stdout",
     "output_type": "stream",
     "text": [
      "---------------------------------------\n",
      "| learn/end_feval       | 0.772763    |\n",
      "| learn/end_gradnorm    | 15.4801     |\n",
      "| learn/net_update_norm | 0.000673405 |\n",
      "| learn/start_feval     | 0.77277     |\n",
      "| learn/start_gradnorm  | 15.4792     |\n",
      "| learn/time            | 0.0530185   |\n",
      "| smooth/fun            | 1.79625     |\n",
      "| smooth/success        | True        |\n",
      "| smooth/time           | 0.0447822   |\n",
      "---------------------------------------\n",
      "\u001b[32m[0622 13:00:50 @ceem.py:122]\u001b[0m Executing smoothing step\n"
     ]
    },
    {
     "name": "stderr",
     "output_type": "stream",
     "text": [
      "100%|██████████| 1/1 [00:00<00:00, 24.93it/s]"
     ]
    },
    {
     "name": "stdout",
     "output_type": "stream",
     "text": [
      "\u001b[32m[0622 13:00:50 @ceem.py:125]\u001b[0m Executing learning step\n"
     ]
    },
    {
     "name": "stderr",
     "output_type": "stream",
     "text": [
      "\n"
     ]
    },
    {
     "name": "stdout",
     "output_type": "stream",
     "text": [
      "---------------------------------------\n",
      "| learn/end_feval       | 0.772736    |\n",
      "| learn/end_gradnorm    | 15.4976     |\n",
      "| learn/net_update_norm | 0.000675156 |\n",
      "| learn/start_feval     | 0.772742    |\n",
      "| learn/start_gradnorm  | 15.4974     |\n",
      "| learn/time            | 0.0432637   |\n",
      "| smooth/fun            | 1.79623     |\n",
      "| smooth/success        | True        |\n",
      "| smooth/time           | 0.0397649   |\n",
      "---------------------------------------\n",
      "\u001b[32m[0622 13:00:50 @ceem.py:122]\u001b[0m Executing smoothing step\n"
     ]
    },
    {
     "name": "stderr",
     "output_type": "stream",
     "text": [
      "100%|██████████| 1/1 [00:00<00:00, 32.69it/s]"
     ]
    },
    {
     "name": "stdout",
     "output_type": "stream",
     "text": [
      "\u001b[32m[0622 13:00:50 @ceem.py:125]\u001b[0m Executing learning step\n"
     ]
    },
    {
     "name": "stderr",
     "output_type": "stream",
     "text": [
      "\n"
     ]
    },
    {
     "name": "stdout",
     "output_type": "stream",
     "text": [
      "---------------------------------------\n",
      "| learn/end_feval       | 0.772717    |\n",
      "| learn/end_gradnorm    | 15.5143     |\n",
      "| learn/net_update_norm | 0.000656481 |\n",
      "| learn/start_feval     | 0.772723    |\n",
      "| learn/start_gradnorm  | 15.5143     |\n",
      "| learn/time            | 0.0395316   |\n",
      "| smooth/fun            | 1.79622     |\n",
      "| smooth/success        | True        |\n",
      "| smooth/time           | 0.0302831   |\n",
      "---------------------------------------\n",
      "\u001b[32m[0622 13:00:50 @ceem.py:122]\u001b[0m Executing smoothing step\n"
     ]
    },
    {
     "name": "stderr",
     "output_type": "stream",
     "text": [
      "100%|██████████| 1/1 [00:00<00:00, 32.96it/s]"
     ]
    },
    {
     "name": "stdout",
     "output_type": "stream",
     "text": [
      "\u001b[32m[0622 13:00:50 @ceem.py:125]\u001b[0m Executing learning step\n"
     ]
    },
    {
     "name": "stderr",
     "output_type": "stream",
     "text": [
      "\n"
     ]
    },
    {
     "name": "stdout",
     "output_type": "stream",
     "text": [
      "---------------------------------------\n",
      "| learn/end_feval       | 0.772637    |\n",
      "| learn/end_gradnorm    | 15.5301     |\n",
      "| learn/net_update_norm | 0.000615165 |\n",
      "| learn/start_feval     | 0.772642    |\n",
      "| learn/start_gradnorm  | 15.53       |\n",
      "| learn/time            | 0.0474764   |\n",
      "| smooth/fun            | 1.79621     |\n",
      "| smooth/success        | True        |\n",
      "| smooth/time           | 0.0300288   |\n",
      "---------------------------------------\n",
      "\u001b[32m[0622 13:00:50 @ceem.py:122]\u001b[0m Executing smoothing step\n"
     ]
    },
    {
     "name": "stderr",
     "output_type": "stream",
     "text": [
      "100%|██████████| 1/1 [00:00<00:00, 26.54it/s]"
     ]
    },
    {
     "name": "stdout",
     "output_type": "stream",
     "text": [
      "\u001b[32m[0622 13:00:50 @ceem.py:125]\u001b[0m Executing learning step\n"
     ]
    },
    {
     "name": "stderr",
     "output_type": "stream",
     "text": [
      "\n"
     ]
    },
    {
     "name": "stdout",
     "output_type": "stream",
     "text": [
      "---------------------------------------\n",
      "| learn/end_feval       | 0.772629    |\n",
      "| learn/end_gradnorm    | 15.5445     |\n",
      "| learn/net_update_norm | 0.000640293 |\n",
      "| learn/start_feval     | 0.772635    |\n",
      "| learn/start_gradnorm  | 15.5454     |\n",
      "| learn/time            | 0.0586564   |\n",
      "| smooth/fun            | 1.79619     |\n",
      "| smooth/success        | True        |\n",
      "| smooth/time           | 0.0371699   |\n",
      "---------------------------------------\n",
      "\u001b[32m[0622 13:00:50 @ceem.py:122]\u001b[0m Executing smoothing step\n"
     ]
    },
    {
     "name": "stderr",
     "output_type": "stream",
     "text": [
      "100%|██████████| 1/1 [00:00<00:00, 25.81it/s]"
     ]
    },
    {
     "name": "stdout",
     "output_type": "stream",
     "text": [
      "\u001b[32m[0622 13:00:50 @ceem.py:125]\u001b[0m Executing learning step\n"
     ]
    },
    {
     "name": "stderr",
     "output_type": "stream",
     "text": [
      "\n"
     ]
    },
    {
     "name": "stdout",
     "output_type": "stream",
     "text": [
      "---------------------------------------\n",
      "| learn/end_feval       | 0.772618    |\n",
      "| learn/end_gradnorm    | 15.5595     |\n",
      "| learn/net_update_norm | 0.000571414 |\n",
      "| learn/start_feval     | 0.772622    |\n",
      "| learn/start_gradnorm  | 15.5592     |\n",
      "| learn/time            | 0.0563011   |\n",
      "| smooth/fun            | 1.79618     |\n",
      "| smooth/success        | True        |\n",
      "| smooth/time           | 0.0383504   |\n",
      "---------------------------------------\n",
      "\u001b[32m[0622 13:00:50 @ceem.py:122]\u001b[0m Executing smoothing step\n"
     ]
    },
    {
     "name": "stderr",
     "output_type": "stream",
     "text": [
      "100%|██████████| 1/1 [00:00<00:00, 25.09it/s]"
     ]
    },
    {
     "name": "stdout",
     "output_type": "stream",
     "text": [
      "\u001b[32m[0622 13:00:50 @ceem.py:125]\u001b[0m Executing learning step\n"
     ]
    },
    {
     "name": "stderr",
     "output_type": "stream",
     "text": [
      "\n"
     ]
    },
    {
     "name": "stdout",
     "output_type": "stream",
     "text": [
      "---------------------------------------\n",
      "| learn/end_feval       | 0.772588    |\n",
      "| learn/end_gradnorm    | 15.5729     |\n",
      "| learn/net_update_norm | 0.000597408 |\n",
      "| learn/start_feval     | 0.772592    |\n",
      "| learn/start_gradnorm  | 15.5737     |\n",
      "| learn/time            | 0.0462327   |\n",
      "| smooth/fun            | 1.79617     |\n",
      "| smooth/success        | True        |\n",
      "| smooth/time           | 0.0394523   |\n",
      "---------------------------------------\n",
      "\u001b[32m[0622 13:00:50 @ceem.py:122]\u001b[0m Executing smoothing step\n"
     ]
    },
    {
     "name": "stderr",
     "output_type": "stream",
     "text": [
      "100%|██████████| 1/1 [00:00<00:00, 29.35it/s]"
     ]
    },
    {
     "name": "stdout",
     "output_type": "stream",
     "text": [
      "\u001b[32m[0622 13:00:50 @ceem.py:125]\u001b[0m Executing learning step\n"
     ]
    },
    {
     "name": "stderr",
     "output_type": "stream",
     "text": [
      "\n"
     ]
    },
    {
     "name": "stdout",
     "output_type": "stream",
     "text": [
      "---------------------------------------\n",
      "| learn/end_feval       | 0.77256     |\n",
      "| learn/end_gradnorm    | 15.587      |\n",
      "| learn/net_update_norm | 0.000515987 |\n",
      "| learn/start_feval     | 0.772564    |\n",
      "| learn/start_gradnorm  | 15.5865     |\n",
      "| learn/time            | 0.0420027   |\n",
      "| smooth/fun            | 1.79616     |\n",
      "| smooth/success        | True        |\n",
      "| smooth/time           | 0.0336844   |\n",
      "---------------------------------------\n",
      "\u001b[32m[0622 13:00:50 @ceem.py:122]\u001b[0m Executing smoothing step\n"
     ]
    },
    {
     "name": "stderr",
     "output_type": "stream",
     "text": [
      "100%|██████████| 1/1 [00:00<00:00, 32.60it/s]"
     ]
    },
    {
     "name": "stdout",
     "output_type": "stream",
     "text": [
      "\u001b[32m[0622 13:00:50 @ceem.py:125]\u001b[0m Executing learning step\n"
     ]
    },
    {
     "name": "stderr",
     "output_type": "stream",
     "text": [
      "\n"
     ]
    },
    {
     "name": "stdout",
     "output_type": "stream",
     "text": [
      "---------------------------------------\n",
      "| learn/end_feval       | 0.772556    |\n",
      "| learn/end_gradnorm    | 15.5993     |\n",
      "| learn/net_update_norm | 0.000562625 |\n",
      "| learn/start_feval     | 0.77256     |\n",
      "| learn/start_gradnorm  | 15.6002     |\n",
      "| learn/time            | 0.0419675   |\n",
      "| smooth/fun            | 1.79615     |\n",
      "| smooth/success        | True        |\n",
      "| smooth/time           | 0.0303524   |\n",
      "---------------------------------------\n",
      "\u001b[32m[0622 13:00:50 @ceem.py:122]\u001b[0m Executing smoothing step\n"
     ]
    },
    {
     "name": "stderr",
     "output_type": "stream",
     "text": [
      "100%|██████████| 1/1 [00:00<00:00, 33.12it/s]"
     ]
    },
    {
     "name": "stdout",
     "output_type": "stream",
     "text": [
      "\u001b[32m[0622 13:00:50 @ceem.py:125]\u001b[0m Executing learning step\n"
     ]
    },
    {
     "name": "stderr",
     "output_type": "stream",
     "text": [
      "\n"
     ]
    },
    {
     "name": "stdout",
     "output_type": "stream",
     "text": [
      "---------------------------------------\n",
      "| learn/end_feval       | 0.772543    |\n",
      "| learn/end_gradnorm    | 15.6129     |\n",
      "| learn/net_update_norm | 0.000472954 |\n",
      "| learn/start_feval     | 0.772547    |\n",
      "| learn/start_gradnorm  | 15.612      |\n",
      "| learn/time            | 0.0430447   |\n",
      "| smooth/fun            | 1.79615     |\n",
      "| smooth/success        | True        |\n",
      "| smooth/time           | 0.0299051   |\n",
      "---------------------------------------\n",
      "\u001b[32m[0622 13:00:50 @ceem.py:122]\u001b[0m Executing smoothing step\n"
     ]
    },
    {
     "name": "stderr",
     "output_type": "stream",
     "text": [
      "100%|██████████| 1/1 [00:00<00:00, 28.26it/s]"
     ]
    },
    {
     "name": "stdout",
     "output_type": "stream",
     "text": [
      "\u001b[32m[0622 13:00:50 @ceem.py:125]\u001b[0m Executing learning step\n"
     ]
    },
    {
     "name": "stderr",
     "output_type": "stream",
     "text": [
      "\n"
     ]
    },
    {
     "name": "stdout",
     "output_type": "stream",
     "text": [
      "---------------------------------------\n",
      "| learn/end_feval       | 0.772528    |\n",
      "| learn/end_gradnorm    | 15.6257     |\n",
      "| learn/net_update_norm | 0.000472781 |\n",
      "| learn/start_feval     | 0.772532    |\n",
      "| learn/start_gradnorm  | 15.6252     |\n",
      "| learn/time            | 0.0449768   |\n",
      "| smooth/fun            | 1.79614     |\n",
      "| smooth/success        | True        |\n",
      "| smooth/time           | 0.0347511   |\n",
      "---------------------------------------\n",
      "\u001b[32m[0622 13:00:51 @ceem.py:122]\u001b[0m Executing smoothing step\n"
     ]
    },
    {
     "name": "stderr",
     "output_type": "stream",
     "text": [
      "100%|██████████| 1/1 [00:00<00:00, 28.39it/s]"
     ]
    },
    {
     "name": "stdout",
     "output_type": "stream",
     "text": [
      "\u001b[32m[0622 13:00:51 @ceem.py:125]\u001b[0m Executing learning step\n"
     ]
    },
    {
     "name": "stderr",
     "output_type": "stream",
     "text": [
      "\n"
     ]
    },
    {
     "name": "stdout",
     "output_type": "stream",
     "text": [
      "---------------------------------------\n",
      "| learn/end_feval       | 0.772531    |\n",
      "| learn/end_gradnorm    | 15.6381     |\n",
      "| learn/net_update_norm | 0.000463932 |\n",
      "| learn/start_feval     | 0.772534    |\n",
      "| learn/start_gradnorm  | 15.6377     |\n",
      "| learn/time            | 0.0462611   |\n",
      "| smooth/fun            | 1.79613     |\n",
      "| smooth/success        | True        |\n",
      "| smooth/time           | 0.0348474   |\n",
      "---------------------------------------\n",
      "\u001b[32m[0622 13:00:51 @ceem.py:122]\u001b[0m Executing smoothing step\n"
     ]
    },
    {
     "name": "stderr",
     "output_type": "stream",
     "text": [
      "100%|██████████| 1/1 [00:00<00:00, 30.52it/s]"
     ]
    },
    {
     "name": "stdout",
     "output_type": "stream",
     "text": [
      "\u001b[32m[0622 13:00:51 @ceem.py:125]\u001b[0m Executing learning step\n"
     ]
    },
    {
     "name": "stderr",
     "output_type": "stream",
     "text": [
      "\n"
     ]
    },
    {
     "name": "stdout",
     "output_type": "stream",
     "text": [
      "---------------------------------------\n",
      "| learn/end_feval       | 0.772512    |\n",
      "| learn/end_gradnorm    | 15.6491     |\n",
      "| learn/net_update_norm | 0.000475078 |\n",
      "| learn/start_feval     | 0.772515    |\n",
      "| learn/start_gradnorm  | 15.6496     |\n",
      "| learn/time            | 0.0466369   |\n",
      "| smooth/fun            | 1.79613     |\n",
      "| smooth/success        | True        |\n",
      "| smooth/time           | 0.0323884   |\n",
      "---------------------------------------\n",
      "\u001b[32m[0622 13:00:51 @ceem.py:122]\u001b[0m Executing smoothing step\n"
     ]
    },
    {
     "name": "stderr",
     "output_type": "stream",
     "text": [
      "100%|██████████| 1/1 [00:00<00:00, 32.44it/s]"
     ]
    },
    {
     "name": "stdout",
     "output_type": "stream",
     "text": [
      "\u001b[32m[0622 13:00:51 @ceem.py:125]\u001b[0m Executing learning step\n"
     ]
    },
    {
     "name": "stderr",
     "output_type": "stream",
     "text": [
      "\n"
     ]
    },
    {
     "name": "stdout",
     "output_type": "stream",
     "text": [
      "--------------------------------------\n",
      "| learn/end_feval       | 0.772504   |\n",
      "| learn/end_gradnorm    | 15.6597    |\n",
      "| learn/net_update_norm | 0.00045931 |\n",
      "| learn/start_feval     | 0.772506   |\n",
      "| learn/start_gradnorm  | 15.6602    |\n",
      "| learn/time            | 0.0410589  |\n",
      "| smooth/fun            | 1.79612    |\n",
      "| smooth/success        | True       |\n",
      "| smooth/time           | 0.030564   |\n",
      "--------------------------------------\n",
      "\u001b[32m[0622 13:00:51 @ceem.py:122]\u001b[0m Executing smoothing step\n"
     ]
    },
    {
     "name": "stderr",
     "output_type": "stream",
     "text": [
      "100%|██████████| 1/1 [00:00<00:00, 33.57it/s]"
     ]
    },
    {
     "name": "stdout",
     "output_type": "stream",
     "text": [
      "\u001b[32m[0622 13:00:51 @ceem.py:125]\u001b[0m Executing learning step\n"
     ]
    },
    {
     "name": "stderr",
     "output_type": "stream",
     "text": [
      "\n"
     ]
    },
    {
     "name": "stdout",
     "output_type": "stream",
     "text": [
      "---------------------------------------\n",
      "| learn/end_feval       | 0.77247     |\n",
      "| learn/end_gradnorm    | 15.6706     |\n",
      "| learn/net_update_norm | 0.000410644 |\n",
      "| learn/start_feval     | 0.772472    |\n",
      "| learn/start_gradnorm  | 15.6703     |\n",
      "| learn/time            | 0.039487    |\n",
      "| smooth/fun            | 1.79611     |\n",
      "| smooth/success        | True        |\n",
      "| smooth/time           | 0.0294891   |\n",
      "---------------------------------------\n",
      "\u001b[32m[0622 13:00:51 @ceem.py:122]\u001b[0m Executing smoothing step\n"
     ]
    },
    {
     "name": "stderr",
     "output_type": "stream",
     "text": [
      "100%|██████████| 1/1 [00:00<00:00, 35.00it/s]"
     ]
    },
    {
     "name": "stdout",
     "output_type": "stream",
     "text": [
      "\u001b[32m[0622 13:00:51 @ceem.py:125]\u001b[0m Executing learning step\n"
     ]
    },
    {
     "name": "stderr",
     "output_type": "stream",
     "text": [
      "\n"
     ]
    },
    {
     "name": "stdout",
     "output_type": "stream",
     "text": [
      "---------------------------------------\n",
      "| learn/end_feval       | 0.772498    |\n",
      "| learn/end_gradnorm    | 15.6821     |\n",
      "| learn/net_update_norm | 0.000385003 |\n",
      "| learn/start_feval     | 0.772501    |\n",
      "| learn/start_gradnorm  | 15.6811     |\n",
      "| learn/time            | 0.0408897   |\n",
      "| smooth/fun            | 1.79611     |\n",
      "| smooth/success        | True        |\n",
      "| smooth/time           | 0.0282643   |\n",
      "---------------------------------------\n",
      "\u001b[32m[0622 13:00:51 @ceem.py:122]\u001b[0m Executing smoothing step\n"
     ]
    },
    {
     "name": "stderr",
     "output_type": "stream",
     "text": [
      "100%|██████████| 1/1 [00:00<00:00, 35.32it/s]"
     ]
    },
    {
     "name": "stdout",
     "output_type": "stream",
     "text": [
      "\u001b[32m[0622 13:00:51 @ceem.py:125]\u001b[0m Executing learning step\n"
     ]
    },
    {
     "name": "stderr",
     "output_type": "stream",
     "text": [
      "\n"
     ]
    },
    {
     "name": "stdout",
     "output_type": "stream",
     "text": [
      "---------------------------------------\n",
      "| learn/end_feval       | 0.772468    |\n",
      "| learn/end_gradnorm    | 15.6908     |\n",
      "| learn/net_update_norm | 0.000440828 |\n",
      "| learn/start_feval     | 0.77247     |\n",
      "| learn/start_gradnorm  | 15.692      |\n",
      "| learn/time            | 0.0380579   |\n",
      "| smooth/fun            | 1.7961      |\n",
      "| smooth/success        | True        |\n",
      "| smooth/time           | 0.0279946   |\n",
      "---------------------------------------\n"
     ]
    }
   ],
   "source": [
    "# specify initial guess\n",
    "C0 = torch.tensor(df['Confirmed'],dtype=dtype).view(1,T,1)\n",
    "S0 = torch.ones_like(C0) * C0.max() * 100 # inital guess of population\n",
    "I0 = C0\n",
    "D0 = torch.tensor(df['Deaths'], dtype=dtype).view(1,T,1)\n",
    "R0 = 0.5 * (C0 + D0)\n",
    "xsm = torch.cat([S0,I0,R0,D0,C0],dim=-1).log().detach()\n",
    "\n",
    "# instantiate CEEM and train\n",
    "ceem = CEEM(smoothing_criteria, learning_criteria, learning_params, learning_opts,\n",
    "                [], lambda x: False)\n",
    "\n",
    "ceem.train(xs=xsm, nepochs=100, smooth_solver_kwargs=smooth_solver_kwargs,\n",
    "           learner_opt_kwargs=learner_opt_kwargs)"
   ]
  },
  {
   "cell_type": "markdown",
   "metadata": {},
   "source": [
    "## Plotting our results\n",
    "Let's see what parameters were learning, and what the curves for S,I,R,D, and C look like after training. We'll also see how well the smoothed estimates for C and D match the data."
   ]
  },
  {
   "cell_type": "code",
   "execution_count": 7,
   "metadata": {},
   "outputs": [
    {
     "name": "stdout",
     "output_type": "stream",
     "text": [
      "beta*: 1.676e-01\n",
      "gamma*: 5.608e-02\n",
      "mu*: 2.341e-03\n"
     ]
    }
   ],
   "source": [
    "# print parameters\n",
    "print('beta*: %.3e' % system.logbeta.exp())\n",
    "print('gamma*: %.3e' % system.loggamma.exp())\n",
    "print('mu*: %.3e' % system.logmu.exp())"
   ]
  },
  {
   "cell_type": "code",
   "execution_count": 8,
   "metadata": {},
   "outputs": [
    {
     "data": {
      "image/png": "[encoded data removed]",
      "text/plain": [
       "<Figure size 576x288 with 2 Axes>"
      ]
     },
     "metadata": {
      "needs_background": "light"
     },
     "output_type": "display_data"
    }
   ],
   "source": [
    "# plot smoothed SIR curves\n",
    "xsmnp = xsm.exp().detach().numpy()\n",
    "tnp = t[0,:].detach().numpy()\n",
    "S = xsmnp[0,:,0]\n",
    "I = xsmnp[0,:,1]\n",
    "R = xsmnp[0,:,2]\n",
    "D = xsmnp[0,:,3]\n",
    "C = xsmnp[0,:,4]\n",
    "Cy = df['Confirmed'].values\n",
    "Dy = df['Deaths'].values\n",
    "\n",
    "plt.figure(figsize=(8,4))\n",
    "plt.subplot(1,2,1)\n",
    "plt.plot(tnp,S, label='S')\n",
    "plt.plot(tnp,I, label='I')\n",
    "plt.plot(tnp,R, label='R')\n",
    "plt.plot(tnp,D, label='D')\n",
    "plt.xlabel('Time [days]')\n",
    "plt.ylabel('Cases')\n",
    "plt.title('Estimated SIRD Curves for Germany')\n",
    "plt.legend()\n",
    "\n",
    "plt.subplot(1,2,2)\n",
    "plt.plot(tnp,C, label='Smoothed. C', color='C0')\n",
    "plt.plot(tnp,D, label='Smoothed. D', color='C1')\n",
    "plt.plot(tnp,Cy, '.', label='Observed C', color='C0')\n",
    "plt.plot(tnp,Dy, '.' ,label='Observed D', color='C1')\n",
    "plt.xlabel('Time [days]')\n",
    "plt.title('Smoothed vs Observed Confirmed/Deaths')\n",
    "plt.legend()\n",
    "plt.tight_layout()"
   ]
  }
 ],
 "metadata": {
  "@webio": {
   "lastCommId": null,
   "lastKernelId": null
  },
  "kernelspec": {
   "display_name": "Python 3",
   "language": "python",
   "name": "python3"
  },
  "language_info": {
   "codemirror_mode": {
    "name": "ipython",
    "version": 3
   },
   "file_extension": ".py",
   "mimetype": "text/x-python",
   "name": "python",
   "nbconvert_exporter": "python",
   "pygments_lexer": "ipython3",
   "version": "3.6.8"
  }
 },
 "nbformat": 4,
 "nbformat_minor": 2
}
